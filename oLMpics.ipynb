{
 "cells": [
  {
   "cell_type": "code",
   "execution_count": 36,
   "id": "incorporate-rogers",
   "metadata": {},
   "outputs": [],
   "source": [
    "import torch\n",
    "from transformers import (\n",
    "    BertForMaskedLM, \n",
    "    BertTokenizer, \n",
    "    pipeline, \n",
    "    RobertaTokenizer, \n",
    "    BertPreTrainedModel, \n",
    "    AdamW,\n",
    "    RobertaForMaskedLM,\n",
    "    BertForMultipleChoice,\n",
    "    BertModel\n",
    "                         )\n",
    "\n",
    "from transformers.modeling_outputs import MultipleChoiceModelOutput\n",
    "from datasets import load_dataset\n",
    "from torch.nn import CrossEntropyLoss\n",
    "import numpy as np\n",
    "from tqdm import tqdm\n",
    "import matplotlib.pyplot as plt\n",
    "from matplotlib import colors\n",
    "import numpy as np\n",
    "import re\n",
    "import random\n",
    "import pandas as pd\n",
    "torch.cuda.set_device(1)"
   ]
  },
  {
   "cell_type": "code",
   "execution_count": null,
   "id": "hazardous-transcript",
   "metadata": {},
   "outputs": [],
   "source": [
    "# !wget https://olmpics.s3.us-east-2.amazonaws.com/challenge/number_comparison/number_comparison_age_compare_masked_train.jsonl.gz\n",
    "# !wget https://olmpics.s3.us-east-2.amazonaws.com/challenge/number_comparison/number_comparison_age_compare_masked_dev.jsonl.gz"
   ]
  },
  {
   "cell_type": "markdown",
   "id": "dominican-sugar",
   "metadata": {},
   "source": [
    "### Load Data"
   ]
  },
  {
   "cell_type": "code",
   "execution_count": 3,
   "id": "herbal-symbol",
   "metadata": {
    "scrolled": true
   },
   "outputs": [
    {
     "name": "stderr",
     "output_type": "stream",
     "text": [
      "Using custom data configuration default\n",
      "Reusing dataset json (/home/imandel/.cache/huggingface/datasets/json/default-bd7f79f46783f45f/0.0.0/70d89ed4db1394f028c651589fcab6d6b28dddcabbe39d3b21b4d41f9a708514)\n",
      "Using custom data configuration default\n",
      "Reusing dataset json (/home/imandel/.cache/huggingface/datasets/json/default-3d9b9f178226216c/0.0.0/70d89ed4db1394f028c651589fcab6d6b28dddcabbe39d3b21b4d41f9a708514)\n"
     ]
    }
   ],
   "source": [
    "dataset = load_dataset('json', data_files='number_comparison_age_compare_masked_train.jsonl')\n",
    "dataset['dev'] = load_dataset('json', data_files='number_comparison_age_compare_masked_dev.jsonl')['train']\n",
    "tokenizer = BertTokenizer.from_pretrained('bert-large-uncased-whole-word-masking', do_lower_case=True)\n"
   ]
  },
  {
   "cell_type": "code",
   "execution_count": 103,
   "id": "downtown-temperature",
   "metadata": {},
   "outputs": [
    {
     "name": "stderr",
     "output_type": "stream",
     "text": [
      "Loading cached processed dataset at /home/imandel/.cache/huggingface/datasets/json/default-3d9b9f178226216c/0.0.0/70d89ed4db1394f028c651589fcab6d6b28dddcabbe39d3b21b4d41f9a708514/cache-b5cb872bb22151c2.arrow\n"
     ]
    }
   ],
   "source": [
    "def noLang(ex):\n",
    "    ex['question']['stem']=' '.join([ex['question']['stem'].split()[i] for i in indices ])\n",
    "    return ex\n",
    "\n",
    "dataset['no_lang'] = dataset['dev'].map(noLang)\n"
   ]
  },
  {
   "cell_type": "markdown",
   "id": "seventh-sweet",
   "metadata": {},
   "source": [
    "### Zero Shot"
   ]
  },
  {
   "cell_type": "code",
   "execution_count": 4,
   "id": "returning-entity",
   "metadata": {},
   "outputs": [
    {
     "name": "stderr",
     "output_type": "stream",
     "text": [
      "Some weights of the model checkpoint at bert-large-uncased-whole-word-masking were not used when initializing BertForMaskedLM: ['cls.seq_relationship.weight', 'cls.seq_relationship.bias']\n",
      "- This IS expected if you are initializing BertForMaskedLM from the checkpoint of a model trained on another task or with another architecture (e.g. initializing a BertForSequenceClassification model from a BertForPreTraining model).\n",
      "- This IS NOT expected if you are initializing BertForMaskedLM from the checkpoint of a model that you expect to be exactly identical (initializing a BertForSequenceClassification model from a BertForSequenceClassification model).\n"
     ]
    }
   ],
   "source": [
    "roberta_tokenizer = RobertaTokenizer.from_pretrained('roberta-large')\n",
    "bert_tokenizer = BertTokenizer.from_pretrained('bert-large-uncased-whole-word-masking')\n",
    "bert_unmask = pipeline('fill-mask', model='bert-large-uncased-whole-word-masking', device=1)\n",
    "roberta_unmask = pipeline('fill-mask', model='roberta-large', device=1)"
   ]
  },
  {
   "cell_type": "code",
   "execution_count": 5,
   "id": "sublime-foster",
   "metadata": {},
   "outputs": [],
   "source": [
    "def zero_shot_ages(model, mask, tokenizer):\n",
    "    results = np.zeros([30,25])\n",
    "    x_offset = 18\n",
    "    y_offset = 15\n",
    "    targets = [tokenizer.tokenize(s)[0] for s in ['older', 'younger']]\n",
    "    for i in tqdm(range(30)):\n",
    "        for j in range(25):\n",
    "            i_age = i + x_offset\n",
    "            j_age = j + y_offset\n",
    "            compare = model(f\"A {i_age} year old person age is  {mask} than a {j_age} year old person .\", targets=targets)\n",
    "#             print(i_age, j_age, max(compare, key=lambda d: d['score'])['token_str'])\n",
    "            if 'young' in max(compare, key=lambda d: d['score'])['token_str']:\n",
    "                results[i,j] = 1\n",
    "    return results\n",
    "                \n",
    "            \n",
    "            "
   ]
  },
  {
   "cell_type": "code",
   "execution_count": 6,
   "id": "editorial-mailing",
   "metadata": {},
   "outputs": [
    {
     "name": "stderr",
     "output_type": "stream",
     "text": [
      "100%|██████████| 30/30 [00:08<00:00,  3.45it/s]\n",
      "100%|██████████| 30/30 [00:09<00:00,  3.30it/s]\n"
     ]
    }
   ],
   "source": [
    "bert_ages = zero_shot_ages(bert_unmask,'[MASK]', bert_tokenizer)\n",
    "roberta_ages = zero_shot_ages(roberta_unmask, '<mask>', roberta_tokenizer) "
   ]
  },
  {
   "cell_type": "markdown",
   "id": "crude-novel",
   "metadata": {},
   "source": [
    "We see similar results to those presented in the table. Here pixels where 'young' is present in the prediction are colored yellow. "
   ]
  },
  {
   "cell_type": "code",
   "execution_count": 10,
   "id": "conventional-daisy",
   "metadata": {},
   "outputs": [
    {
     "data": {
      "image/png": "[encoded data removed]",
      "text/plain": [
       "<Figure size 432x432 with 1 Axes>"
      ]
     },
     "metadata": {
      "needs_background": "light"
     },
     "output_type": "display_data"
    }
   ],
   "source": [
    "fig, ax = plt.subplots(figsize=(6,6))\n",
    "ax.imshow(roberta_ages, interpolation='none', extent=[18,43,45,15])\n",
    "ax.set_title('Roberta Zero Shot Ages')\n",
    "plt.show()"
   ]
  },
  {
   "cell_type": "code",
   "execution_count": 8,
   "id": "generic-reggae",
   "metadata": {},
   "outputs": [
    {
     "data": {
      "image/png": "[encoded data removed]",
      "text/plain": [
       "<Figure size 432x432 with 1 Axes>"
      ]
     },
     "metadata": {
      "needs_background": "light"
     },
     "output_type": "display_data"
    }
   ],
   "source": [
    "fig, ax = plt.subplots(figsize=(6,6))\n",
    "ax.imshow(bert_ages, interpolation='none', extent=[18,43,45,15])\n",
    "ax.set_title('Bert Zero Shot Ages')\n",
    "plt.show()"
   ]
  },
  {
   "cell_type": "markdown",
   "id": "taken-assurance",
   "metadata": {},
   "source": [
    "## MC-MLM"
   ]
  },
  {
   "cell_type": "code",
   "execution_count": 24,
   "id": "short-james",
   "metadata": {},
   "outputs": [],
   "source": [
    "def load_sentences(dataset, batch_size, num_choices, tokenizer):\n",
    "    labels = torch.zeros([batch_size], dtype=torch.long)[:,None]\n",
    "    inputs = []\n",
    "    all_choices = torch.full((batch_size,num_choices), -100)\n",
    "    for i, sentence in enumerate(dataset):\n",
    "        if tokenizer.mask_token == '<mask>':\n",
    "            sentence['question']['stem']= sentence['question']['stem'].replace('[MASK]', '     <mask>')\n",
    "        inputs.append(sentence['question']['stem'])\n",
    "        choices_ids = torch.tensor([tokenizer.encode(c['text'], add_special_tokens=False)[0] for c in sentence['question']['choices']])\n",
    "        all_choices[i,:choices_ids.shape[0]] = choices_ids\n",
    "        labels[i] = [l['label'] for l in sentence['question']['choices']].index(sentence['answerKey'])\n",
    "\n",
    "    input_ids = tokenizer(inputs, padding=True, return_tensors=\"pt\").input_ids\n",
    "    if tokenizer.mask_token == '<mask>':\n",
    "        mask_idxs = (input_ids==50264).nonzero()[:,1]\n",
    "    else:\n",
    "        mask_idxs = (input_ids==103).nonzero()[:,1]\n",
    "    return input_ids, mask_idxs, labels, all_choices\n",
    "    "
   ]
  },
  {
   "cell_type": "code",
   "execution_count": 25,
   "id": "statutory-canberra",
   "metadata": {},
   "outputs": [],
   "source": [
    "class bertMCMLM(BertForMaskedLM):\n",
    "    def __init__(self, config):\n",
    "        super().__init__(config)\n",
    "#         https://github.com/huggingface/transformers/issues/8907\n",
    "        for name, param in self.named_parameters():\n",
    "            if 'predictions' in name:\n",
    "                param.requires_grad = True\n",
    "            else:\n",
    "                param.requires_grad = False\n",
    "        \n",
    "        self.cls.predictions.decoder.weight.requires_grad = True\n",
    "        self.cls.predictions.bias.requires_grad = True\n",
    "    def forward(\n",
    "        self,\n",
    "        input_ids,\n",
    "        attention_mask=None,\n",
    "        mask_idxs = None,\n",
    "        token_type_ids=None,\n",
    "        position_ids=None,\n",
    "        head_mask=None,\n",
    "        inputs_embeds=None,\n",
    "        encoder_hidden_states=None,\n",
    "        encoder_attention_mask=None,\n",
    "        labels=None,\n",
    "        all_choices=None,\n",
    "        output_attentions=None,\n",
    "        output_hidden_states=None,\n",
    "        return_dict=None,\n",
    "    ):\n",
    "        num_choices = all_choices.shape[1] # the num choices will be the same for all in batch\n",
    "        batch_size = input_ids.size(0)\n",
    "        logits = torch.zeros(batch_size,num_choices)\n",
    "        outputs = self.bert(\n",
    "                    input_ids,\n",
    "                    attention_mask=attention_mask,\n",
    "                    token_type_ids=token_type_ids,\n",
    "                    position_ids=position_ids,\n",
    "                    head_mask=head_mask,\n",
    "                    inputs_embeds=inputs_embeds,\n",
    "                    encoder_hidden_states=encoder_hidden_states,\n",
    "                    encoder_attention_mask=encoder_attention_mask,\n",
    "                    output_attentions=output_attentions,\n",
    "                    output_hidden_states=output_hidden_states,\n",
    "                    return_dict=return_dict,\n",
    "                )\n",
    "        sequence_output = outputs[0]\n",
    "        prediction_scores = self.cls(sequence_output)\n",
    "        \n",
    "        outputs = (prediction_scores,) + outputs[2:]        \n",
    "        if labels is not None:\n",
    "            masked_lm_loss = 0\n",
    "            loss_fct = CrossEntropyLoss()  \n",
    "            for batch_idx, choices in enumerate(all_choices):\n",
    "                vals = prediction_scores[batch_idx,mask_idxs[batch_idx],[[c] for c in choices]].T\n",
    "                masked_lm_loss += loss_fct(vals, labels[batch_idx])\n",
    "                logits[batch_idx] = vals.softmax(dim=1)\n",
    "            outputs = (logits,) + outputs\n",
    "            outputs = (masked_lm_loss,) + outputs\n",
    "        return outputs"
   ]
  },
  {
   "cell_type": "code",
   "execution_count": 26,
   "id": "broadband-frederick",
   "metadata": {},
   "outputs": [],
   "source": [
    "class robertaMCMLM(RobertaForMaskedLM):\n",
    "    def __init__(self, config):\n",
    "        super().__init__(config)\n",
    "        for name, param in self.named_parameters():\n",
    "            if 'lm_head' in name:\n",
    "                param.requires_grad = True\n",
    "            else:\n",
    "                param.requires_grad = False\n",
    "        self.lm_head.decoder.weight.requires_grad = True\n",
    "        self.lm_head.bias.requires_grad = True\n",
    "        self.roberta.embeddings.word_embeddings.weight.requires_grad = False\n",
    "    \n",
    "    def forward(\n",
    "        self,\n",
    "        input_ids,\n",
    "        attention_mask=None,\n",
    "        mask_idxs = None,\n",
    "        token_type_ids=None,\n",
    "        position_ids=None,\n",
    "        head_mask=None,\n",
    "        inputs_embeds=None,\n",
    "        encoder_hidden_states=None,\n",
    "        encoder_attention_mask=None,\n",
    "        labels=None,\n",
    "        all_choices=None,\n",
    "        output_attentions=None,\n",
    "        output_hidden_states=None,\n",
    "        return_dict=None,\n",
    "    ):\n",
    "        num_choices = all_choices.shape[1] # the num choices will be the same for all in batch\n",
    "        batch_size = input_ids.size(0)\n",
    "        logits = torch.zeros(batch_size,num_choices)\n",
    "        outputs = self.roberta(\n",
    "                    input_ids,\n",
    "                    attention_mask=attention_mask,\n",
    "                    token_type_ids=token_type_ids,\n",
    "                    position_ids=position_ids,\n",
    "                    head_mask=head_mask,\n",
    "                    inputs_embeds=inputs_embeds,\n",
    "                    encoder_hidden_states=encoder_hidden_states,\n",
    "                    encoder_attention_mask=encoder_attention_mask,\n",
    "                    output_attentions=output_attentions,\n",
    "                    output_hidden_states=output_hidden_states,\n",
    "                    return_dict=return_dict,\n",
    "                )\n",
    "        sequence_output = outputs[0]\n",
    "        prediction_scores = self.lm_head(sequence_output)\n",
    "        \n",
    "        outputs = (prediction_scores,) + outputs[2:]        \n",
    "        if labels is not None:\n",
    "            masked_lm_loss = 0\n",
    "            loss_fct = CrossEntropyLoss()  \n",
    "            for batch_idx, choices in enumerate(all_choices):\n",
    "#                 print(choices)\n",
    "                vals = prediction_scores[batch_idx,mask_idxs[batch_idx],[[c] for c in choices]].T\n",
    "                masked_lm_loss += loss_fct(vals, labels[batch_idx])\n",
    "                logits[batch_idx] = vals.softmax(dim=1)\n",
    "            outputs = (logits,) + outputs\n",
    "            outputs = (masked_lm_loss,) + outputs\n",
    "        return outputs"
   ]
  },
  {
   "cell_type": "code",
   "execution_count": null,
   "id": "steady-applicant",
   "metadata": {},
   "outputs": [],
   "source": [
    "evaluate(model, tokenizer)"
   ]
  },
  {
   "cell_type": "markdown",
   "id": "quantitative-framing",
   "metadata": {},
   "source": [
    "### Fine-Tuning MLM"
   ]
  },
  {
   "cell_type": "code",
   "execution_count": 27,
   "id": "optimum-summer",
   "metadata": {},
   "outputs": [],
   "source": [
    "def fine_tuneMLM(model, tokenizer, no_examples):\n",
    "    batch_size = 10\n",
    "    epochs = 4\n",
    "    model = model.to('cuda:1')\n",
    "    model.train()\n",
    "    optim = AdamW(model.parameters(), lr=5e-5)\n",
    "    examples = random.sample(list(dataset['train']), no_examples)\n",
    "    for epoch in range(epochs):\n",
    "        print(f\"starting epoch {epoch}\")\n",
    "        random.shuffle(examples)\n",
    "        gen = (examples[i:i + batch_size] for i in range(0, len(examples), batch_size))\n",
    "        for batch in tqdm(gen, total=int(no_examples/batch_size)):\n",
    "    #     for batch in gen:\n",
    "            optim.zero_grad()\n",
    "            input_ids, mask_idxs, labels, all_choices = load_sentences(batch, batch_size, 2, tokenizer)\n",
    "            input_ids = input_ids.to('cuda:1')\n",
    "            mask_idxs = mask_idxs.to('cuda:1')\n",
    "            labels = labels.to('cuda:1')\n",
    "            all_choices = all_choices.to('cuda:1')\n",
    "            output = model(input_ids=input_ids, labels=labels, mask_idxs=mask_idxs, all_choices=all_choices)\n",
    "            loss = output[0]\n",
    "            loss.backward()\n",
    "            optim.step() \n",
    "#             print(loss)\n",
    "    return model\n",
    "    "
   ]
  },
  {
   "cell_type": "code",
   "execution_count": null,
   "id": "historic-romantic",
   "metadata": {},
   "outputs": [],
   "source": [
    "tokenizer = BertTokenizer.from_pretrained('bert-large-uncased-whole-word-masking', do_lower_case=True)\n",
    "model = bertMCMLM.from_pretrained('bert-large-uncased-whole-word-masking')\n",
    "model = fine_tuneMLM(model, tokenizer, 500)"
   ]
  },
  {
   "cell_type": "code",
   "execution_count": 34,
   "id": "regulation-jewelry",
   "metadata": {},
   "outputs": [
    {
     "name": "stderr",
     "output_type": "stream",
     "text": [
      "0it [00:00, ?it/s]\n",
      "0it [00:00, ?it/s]\n",
      "0it [00:00, ?it/s]\n",
      "0it [00:00, ?it/s]"
     ]
    },
    {
     "name": "stdout",
     "output_type": "stream",
     "text": [
      "starting epoch 0\n",
      "starting epoch 1\n",
      "starting epoch 2\n",
      "starting epoch 3\n"
     ]
    },
    {
     "name": "stderr",
     "output_type": "stream",
     "text": [
      "\n"
     ]
    }
   ],
   "source": [
    "tokenizer = RobertaTokenizer.from_pretrained('roberta-large', do_lower_case=True)\n",
    "model = robertaMCMLM.from_pretrained('roberta-large')\n",
    "model.train()\n",
    "model = fine_tuneMLM(model, tokenizer, 0)"
   ]
  },
  {
   "cell_type": "markdown",
   "id": "nervous-handbook",
   "metadata": {},
   "source": [
    "### Evaluating MLM"
   ]
  },
  {
   "cell_type": "code",
   "execution_count": 28,
   "id": "brown-occasion",
   "metadata": {},
   "outputs": [],
   "source": [
    "def evaluateMLM(model, tokenizer, dataset):\n",
    "    examples = random.sample(list(dataset), 500)\n",
    "    batch_size = 10\n",
    "    gen = (examples[i:i + batch_size] for i in range(0, len(examples), batch_size))\n",
    "    correct = 0\n",
    "    for batch in tqdm(gen, total=500/batch_size):\n",
    "        input_ids, mask_idxs, labels, all_choices = load_sentences(batch, batch_size, 2, tokenizer)\n",
    "        input_ids = input_ids.to('cuda:1')\n",
    "        mask_idxs = mask_idxs.to('cuda:1')\n",
    "        labels = labels.to('cuda:1')\n",
    "        all_choices = all_choices.to('cuda:1')\n",
    "        output = model(input_ids=input_ids, labels=labels, mask_idxs=mask_idxs, all_choices=all_choices)\n",
    "        correct += (torch.argmax(output[1], 1) ==labels.T.to('cpu')).sum().item()\n",
    "\n",
    "    accuracy = correct/500 *100\n",
    "    return accuracy    \n",
    "    "
   ]
  },
  {
   "cell_type": "markdown",
   "id": "subtle-diploma",
   "metadata": {},
   "source": [
    "### Learning Curves"
   ]
  },
  {
   "cell_type": "code",
   "execution_count": 71,
   "id": "continuing-bachelor",
   "metadata": {},
   "outputs": [
    {
     "name": "stderr",
     "output_type": "stream",
     "text": [
      "Some weights of the model checkpoint at bert-base-uncased were not used when initializing bertMCMLM: ['cls.seq_relationship.weight', 'cls.seq_relationship.bias']\n",
      "- This IS expected if you are initializing bertMCMLM from the checkpoint of a model trained on another task or with another architecture (e.g. initializing a BertForSequenceClassification model from a BertForPreTraining model).\n",
      "- This IS NOT expected if you are initializing bertMCMLM from the checkpoint of a model that you expect to be exactly identical (initializing a BertForSequenceClassification model from a BertForSequenceClassification model).\n",
      "0it [00:00, ?it/s]\n",
      "0it [00:00, ?it/s]\n",
      "0it [00:00, ?it/s]\n",
      "0it [00:00, ?it/s]\n",
      " 14%|█▍        | 7/50.0 [00:00<00:00, 69.09it/s]"
     ]
    },
    {
     "name": "stdout",
     "output_type": "stream",
     "text": [
      "starting epoch 0\n",
      "starting epoch 1\n",
      "starting epoch 2\n",
      "starting epoch 3\n"
     ]
    },
    {
     "name": "stderr",
     "output_type": "stream",
     "text": [
      "100%|██████████| 50/50.0 [00:00<00:00, 72.06it/s]\n"
     ]
    },
    {
     "data": {
      "application/vnd.jupyter.widget-view+json": {
       "model_id": "b02927d44f6a413988dc5e71a2983e90",
       "version_major": 2,
       "version_minor": 0
      },
      "text/plain": [
       "HBox(children=(FloatProgress(value=0.0, description='Downloading', max=231508.0, style=ProgressStyle(descripti…"
      ]
     },
     "metadata": {},
     "output_type": "display_data"
    },
    {
     "name": "stdout",
     "output_type": "stream",
     "text": [
      "\n"
     ]
    },
    {
     "data": {
      "application/vnd.jupyter.widget-view+json": {
       "model_id": "218d7ee161d94c42ae62ee4c5f9ff0a1",
       "version_major": 2,
       "version_minor": 0
      },
      "text/plain": [
       "HBox(children=(FloatProgress(value=0.0, description='Downloading', max=28.0, style=ProgressStyle(description_w…"
      ]
     },
     "metadata": {},
     "output_type": "display_data"
    },
    {
     "name": "stdout",
     "output_type": "stream",
     "text": [
      "\n"
     ]
    },
    {
     "data": {
      "application/vnd.jupyter.widget-view+json": {
       "model_id": "ec73d0a6b59144e09e1c5135497a00b7",
       "version_major": 2,
       "version_minor": 0
      },
      "text/plain": [
       "HBox(children=(FloatProgress(value=0.0, description='Downloading', max=466062.0, style=ProgressStyle(descripti…"
      ]
     },
     "metadata": {},
     "output_type": "display_data"
    },
    {
     "name": "stdout",
     "output_type": "stream",
     "text": [
      "\n"
     ]
    },
    {
     "data": {
      "application/vnd.jupyter.widget-view+json": {
       "model_id": "009c04b90d6c40c5b68f861598757bb9",
       "version_major": 2,
       "version_minor": 0
      },
      "text/plain": [
       "HBox(children=(FloatProgress(value=0.0, description='Downloading', max=434.0, style=ProgressStyle(description_…"
      ]
     },
     "metadata": {},
     "output_type": "display_data"
    },
    {
     "name": "stdout",
     "output_type": "stream",
     "text": [
      "\n"
     ]
    },
    {
     "data": {
      "application/vnd.jupyter.widget-view+json": {
       "model_id": "e4b45a986f344b7eb73164edd233bbfb",
       "version_major": 2,
       "version_minor": 0
      },
      "text/plain": [
       "HBox(children=(FloatProgress(value=0.0, description='Downloading', max=1344997306.0, style=ProgressStyle(descr…"
      ]
     },
     "metadata": {},
     "output_type": "display_data"
    },
    {
     "name": "stdout",
     "output_type": "stream",
     "text": [
      "\n"
     ]
    },
    {
     "name": "stderr",
     "output_type": "stream",
     "text": [
      "Some weights of the model checkpoint at bert-large-uncased were not used when initializing bertMCMLM: ['cls.seq_relationship.weight', 'cls.seq_relationship.bias']\n",
      "- This IS expected if you are initializing bertMCMLM from the checkpoint of a model trained on another task or with another architecture (e.g. initializing a BertForSequenceClassification model from a BertForPreTraining model).\n",
      "- This IS NOT expected if you are initializing bertMCMLM from the checkpoint of a model that you expect to be exactly identical (initializing a BertForSequenceClassification model from a BertForSequenceClassification model).\n",
      "0it [00:00, ?it/s]\n",
      "0it [00:00, ?it/s]\n",
      "0it [00:00, ?it/s]\n",
      "0it [00:00, ?it/s]\n",
      "  4%|▍         | 2/50.0 [00:00<00:02, 18.30it/s]"
     ]
    },
    {
     "name": "stdout",
     "output_type": "stream",
     "text": [
      "starting epoch 0\n",
      "starting epoch 1\n",
      "starting epoch 2\n",
      "starting epoch 3\n"
     ]
    },
    {
     "name": "stderr",
     "output_type": "stream",
     "text": [
      "100%|██████████| 50/50.0 [00:01<00:00, 46.10it/s]\n",
      "Some weights of the model checkpoint at bert-large-uncased-whole-word-masking were not used when initializing bertMCMLM: ['cls.seq_relationship.weight', 'cls.seq_relationship.bias']\n",
      "- This IS expected if you are initializing bertMCMLM from the checkpoint of a model trained on another task or with another architecture (e.g. initializing a BertForSequenceClassification model from a BertForPreTraining model).\n",
      "- This IS NOT expected if you are initializing bertMCMLM from the checkpoint of a model that you expect to be exactly identical (initializing a BertForSequenceClassification model from a BertForSequenceClassification model).\n",
      "0it [00:00, ?it/s]\n",
      "0it [00:00, ?it/s]\n",
      "0it [00:00, ?it/s]\n",
      "0it [00:00, ?it/s]\n",
      " 10%|█         | 5/50.0 [00:00<00:00, 45.53it/s]"
     ]
    },
    {
     "name": "stdout",
     "output_type": "stream",
     "text": [
      "starting epoch 0\n",
      "starting epoch 1\n",
      "starting epoch 2\n",
      "starting epoch 3\n"
     ]
    },
    {
     "name": "stderr",
     "output_type": "stream",
     "text": [
      "100%|██████████| 50/50.0 [00:01<00:00, 48.92it/s]\n",
      "0it [00:00, ?it/s]\n",
      "0it [00:00, ?it/s]\n",
      "0it [00:00, ?it/s]\n",
      "0it [00:00, ?it/s]\n",
      " 18%|█▊        | 9/50.0 [00:00<00:00, 83.08it/s]"
     ]
    },
    {
     "name": "stdout",
     "output_type": "stream",
     "text": [
      "starting epoch 0\n",
      "starting epoch 1\n",
      "starting epoch 2\n",
      "starting epoch 3\n"
     ]
    },
    {
     "name": "stderr",
     "output_type": "stream",
     "text": [
      "100%|██████████| 50/50.0 [00:00<00:00, 88.86it/s]\n",
      "0it [00:00, ?it/s]\n",
      "0it [00:00, ?it/s]\n",
      "0it [00:00, ?it/s]\n",
      "0it [00:00, ?it/s]\n",
      " 10%|█         | 5/50.0 [00:00<00:01, 44.27it/s]"
     ]
    },
    {
     "name": "stdout",
     "output_type": "stream",
     "text": [
      "starting epoch 0\n",
      "starting epoch 1\n",
      "starting epoch 2\n",
      "starting epoch 3\n"
     ]
    },
    {
     "name": "stderr",
     "output_type": "stream",
     "text": [
      "100%|██████████| 50/50.0 [00:00<00:00, 50.80it/s]\n",
      "Some weights of the model checkpoint at bert-base-uncased were not used when initializing bertMCMLM: ['cls.seq_relationship.weight', 'cls.seq_relationship.bias']\n",
      "- This IS expected if you are initializing bertMCMLM from the checkpoint of a model trained on another task or with another architecture (e.g. initializing a BertForSequenceClassification model from a BertForPreTraining model).\n",
      "- This IS NOT expected if you are initializing bertMCMLM from the checkpoint of a model that you expect to be exactly identical (initializing a BertForSequenceClassification model from a BertForSequenceClassification model).\n",
      " 50%|█████     | 3/6 [00:00<00:00, 27.30it/s]"
     ]
    },
    {
     "name": "stdout",
     "output_type": "stream",
     "text": [
      "starting epoch 0\n"
     ]
    },
    {
     "name": "stderr",
     "output_type": "stream",
     "text": [
      "100%|██████████| 6/6 [00:00<00:00, 26.91it/s]\n",
      " 50%|█████     | 3/6 [00:00<00:00, 26.23it/s]"
     ]
    },
    {
     "name": "stdout",
     "output_type": "stream",
     "text": [
      "starting epoch 1\n"
     ]
    },
    {
     "name": "stderr",
     "output_type": "stream",
     "text": [
      "100%|██████████| 6/6 [00:00<00:00, 26.88it/s]\n",
      " 50%|█████     | 3/6 [00:00<00:00, 27.89it/s]"
     ]
    },
    {
     "name": "stdout",
     "output_type": "stream",
     "text": [
      "starting epoch 2\n"
     ]
    },
    {
     "name": "stderr",
     "output_type": "stream",
     "text": [
      "100%|██████████| 6/6 [00:00<00:00, 27.39it/s]\n",
      " 50%|█████     | 3/6 [00:00<00:00, 26.73it/s]"
     ]
    },
    {
     "name": "stdout",
     "output_type": "stream",
     "text": [
      "starting epoch 3\n"
     ]
    },
    {
     "name": "stderr",
     "output_type": "stream",
     "text": [
      "100%|██████████| 6/6 [00:00<00:00, 26.90it/s]\n",
      "100%|██████████| 50/50.0 [00:00<00:00, 74.46it/s]\n",
      "Some weights of the model checkpoint at bert-large-uncased were not used when initializing bertMCMLM: ['cls.seq_relationship.weight', 'cls.seq_relationship.bias']\n",
      "- This IS expected if you are initializing bertMCMLM from the checkpoint of a model trained on another task or with another architecture (e.g. initializing a BertForSequenceClassification model from a BertForPreTraining model).\n",
      "- This IS NOT expected if you are initializing bertMCMLM from the checkpoint of a model that you expect to be exactly identical (initializing a BertForSequenceClassification model from a BertForSequenceClassification model).\n",
      " 33%|███▎      | 2/6 [00:00<00:00, 18.55it/s]"
     ]
    },
    {
     "name": "stdout",
     "output_type": "stream",
     "text": [
      "starting epoch 0\n"
     ]
    },
    {
     "name": "stderr",
     "output_type": "stream",
     "text": [
      "100%|██████████| 6/6 [00:00<00:00, 17.48it/s]\n",
      " 33%|███▎      | 2/6 [00:00<00:00, 15.72it/s]"
     ]
    },
    {
     "name": "stdout",
     "output_type": "stream",
     "text": [
      "starting epoch 1\n"
     ]
    },
    {
     "name": "stderr",
     "output_type": "stream",
     "text": [
      "100%|██████████| 6/6 [00:00<00:00, 15.90it/s]\n",
      " 33%|███▎      | 2/6 [00:00<00:00, 14.96it/s]"
     ]
    },
    {
     "name": "stdout",
     "output_type": "stream",
     "text": [
      "starting epoch 2\n"
     ]
    },
    {
     "name": "stderr",
     "output_type": "stream",
     "text": [
      "100%|██████████| 6/6 [00:00<00:00, 16.92it/s]\n",
      " 33%|███▎      | 2/6 [00:00<00:00, 19.13it/s]"
     ]
    },
    {
     "name": "stdout",
     "output_type": "stream",
     "text": [
      "starting epoch 3\n"
     ]
    },
    {
     "name": "stderr",
     "output_type": "stream",
     "text": [
      "100%|██████████| 6/6 [00:00<00:00, 19.15it/s]\n",
      "100%|██████████| 50/50.0 [00:00<00:00, 50.11it/s]\n",
      "Some weights of the model checkpoint at bert-large-uncased-whole-word-masking were not used when initializing bertMCMLM: ['cls.seq_relationship.weight', 'cls.seq_relationship.bias']\n",
      "- This IS expected if you are initializing bertMCMLM from the checkpoint of a model trained on another task or with another architecture (e.g. initializing a BertForSequenceClassification model from a BertForPreTraining model).\n",
      "- This IS NOT expected if you are initializing bertMCMLM from the checkpoint of a model that you expect to be exactly identical (initializing a BertForSequenceClassification model from a BertForSequenceClassification model).\n",
      " 33%|███▎      | 2/6 [00:00<00:00, 15.77it/s]"
     ]
    },
    {
     "name": "stdout",
     "output_type": "stream",
     "text": [
      "starting epoch 0\n"
     ]
    },
    {
     "name": "stderr",
     "output_type": "stream",
     "text": [
      "100%|██████████| 6/6 [00:00<00:00, 17.95it/s]\n",
      " 50%|█████     | 3/6 [00:00<00:00, 20.61it/s]"
     ]
    },
    {
     "name": "stdout",
     "output_type": "stream",
     "text": [
      "starting epoch 1\n"
     ]
    },
    {
     "name": "stderr",
     "output_type": "stream",
     "text": [
      "100%|██████████| 6/6 [00:00<00:00, 20.43it/s]\n",
      " 33%|███▎      | 2/6 [00:00<00:00, 16.09it/s]"
     ]
    },
    {
     "name": "stdout",
     "output_type": "stream",
     "text": [
      "starting epoch 2\n"
     ]
    },
    {
     "name": "stderr",
     "output_type": "stream",
     "text": [
      "100%|██████████| 6/6 [00:00<00:00, 18.44it/s]\n",
      " 33%|███▎      | 2/6 [00:00<00:00, 18.66it/s]"
     ]
    },
    {
     "name": "stdout",
     "output_type": "stream",
     "text": [
      "starting epoch 3\n"
     ]
    },
    {
     "name": "stderr",
     "output_type": "stream",
     "text": [
      "100%|██████████| 6/6 [00:00<00:00, 15.74it/s]\n",
      "100%|██████████| 50/50.0 [00:01<00:00, 49.47it/s]\n",
      "100%|██████████| 6/6 [00:00<00:00, 57.69it/s]\n",
      "  0%|          | 0/6 [00:00<?, ?it/s]"
     ]
    },
    {
     "name": "stdout",
     "output_type": "stream",
     "text": [
      "starting epoch 0\n",
      "starting epoch 1\n"
     ]
    },
    {
     "name": "stderr",
     "output_type": "stream",
     "text": [
      "100%|██████████| 6/6 [00:00<00:00, 57.01it/s]\n",
      "100%|██████████| 6/6 [00:00<00:00, 58.57it/s]\n",
      "  0%|          | 0/6 [00:00<?, ?it/s]"
     ]
    },
    {
     "name": "stdout",
     "output_type": "stream",
     "text": [
      "starting epoch 2\n",
      "starting epoch 3\n"
     ]
    },
    {
     "name": "stderr",
     "output_type": "stream",
     "text": [
      "100%|██████████| 6/6 [00:00<00:00, 49.32it/s]\n",
      "100%|██████████| 50/50.0 [00:00<00:00, 87.47it/s]\n",
      "100%|██████████| 6/6 [00:00<00:00, 31.21it/s]\n",
      "  0%|          | 0/6 [00:00<?, ?it/s]"
     ]
    },
    {
     "name": "stdout",
     "output_type": "stream",
     "text": [
      "starting epoch 0\n",
      "starting epoch 1\n"
     ]
    },
    {
     "name": "stderr",
     "output_type": "stream",
     "text": [
      "100%|██████████| 6/6 [00:00<00:00, 40.38it/s]\n",
      "100%|██████████| 6/6 [00:00<00:00, 40.85it/s]\n",
      "  0%|          | 0/6 [00:00<?, ?it/s]"
     ]
    },
    {
     "name": "stdout",
     "output_type": "stream",
     "text": [
      "starting epoch 2\n",
      "starting epoch 3\n"
     ]
    },
    {
     "name": "stderr",
     "output_type": "stream",
     "text": [
      "100%|██████████| 6/6 [00:00<00:00, 40.40it/s]\n",
      "100%|██████████| 50/50.0 [00:00<00:00, 51.93it/s]\n",
      "Some weights of the model checkpoint at bert-base-uncased were not used when initializing bertMCMLM: ['cls.seq_relationship.weight', 'cls.seq_relationship.bias']\n",
      "- This IS expected if you are initializing bertMCMLM from the checkpoint of a model trained on another task or with another architecture (e.g. initializing a BertForSequenceClassification model from a BertForPreTraining model).\n",
      "- This IS NOT expected if you are initializing bertMCMLM from the checkpoint of a model that you expect to be exactly identical (initializing a BertForSequenceClassification model from a BertForSequenceClassification model).\n",
      " 25%|██▌       | 3/12 [00:00<00:00, 27.90it/s]"
     ]
    },
    {
     "name": "stdout",
     "output_type": "stream",
     "text": [
      "starting epoch 0\n"
     ]
    },
    {
     "name": "stderr",
     "output_type": "stream",
     "text": [
      "100%|██████████| 12/12 [00:00<00:00, 23.80it/s]\n",
      " 25%|██▌       | 3/12 [00:00<00:00, 27.48it/s]"
     ]
    },
    {
     "name": "stdout",
     "output_type": "stream",
     "text": [
      "starting epoch 1\n"
     ]
    },
    {
     "name": "stderr",
     "output_type": "stream",
     "text": [
      "100%|██████████| 12/12 [00:00<00:00, 26.50it/s]\n",
      " 25%|██▌       | 3/12 [00:00<00:00, 26.11it/s]"
     ]
    },
    {
     "name": "stdout",
     "output_type": "stream",
     "text": [
      "starting epoch 2\n"
     ]
    },
    {
     "name": "stderr",
     "output_type": "stream",
     "text": [
      "100%|██████████| 12/12 [00:00<00:00, 26.46it/s]\n",
      " 25%|██▌       | 3/12 [00:00<00:00, 28.13it/s]"
     ]
    },
    {
     "name": "stdout",
     "output_type": "stream",
     "text": [
      "starting epoch 3\n"
     ]
    },
    {
     "name": "stderr",
     "output_type": "stream",
     "text": [
      "100%|██████████| 12/12 [00:00<00:00, 26.46it/s]\n",
      "100%|██████████| 50/50.0 [00:00<00:00, 79.00it/s]\n",
      "Some weights of the model checkpoint at bert-large-uncased were not used when initializing bertMCMLM: ['cls.seq_relationship.weight', 'cls.seq_relationship.bias']\n",
      "- This IS expected if you are initializing bertMCMLM from the checkpoint of a model trained on another task or with another architecture (e.g. initializing a BertForSequenceClassification model from a BertForPreTraining model).\n",
      "- This IS NOT expected if you are initializing bertMCMLM from the checkpoint of a model that you expect to be exactly identical (initializing a BertForSequenceClassification model from a BertForSequenceClassification model).\n",
      " 17%|█▋        | 2/12 [00:00<00:00, 19.51it/s]"
     ]
    },
    {
     "name": "stdout",
     "output_type": "stream",
     "text": [
      "starting epoch 0\n"
     ]
    },
    {
     "name": "stderr",
     "output_type": "stream",
     "text": [
      "100%|██████████| 12/12 [00:00<00:00, 20.05it/s]\n",
      " 17%|█▋        | 2/12 [00:00<00:00, 19.55it/s]"
     ]
    },
    {
     "name": "stdout",
     "output_type": "stream",
     "text": [
      "starting epoch 1\n"
     ]
    },
    {
     "name": "stderr",
     "output_type": "stream",
     "text": [
      "100%|██████████| 12/12 [00:00<00:00, 19.43it/s]\n",
      " 25%|██▌       | 3/12 [00:00<00:00, 21.04it/s]"
     ]
    },
    {
     "name": "stdout",
     "output_type": "stream",
     "text": [
      "starting epoch 2\n"
     ]
    },
    {
     "name": "stderr",
     "output_type": "stream",
     "text": [
      "100%|██████████| 12/12 [00:00<00:00, 19.06it/s]\n",
      " 17%|█▋        | 2/12 [00:00<00:00, 19.81it/s]"
     ]
    },
    {
     "name": "stdout",
     "output_type": "stream",
     "text": [
      "starting epoch 3\n"
     ]
    },
    {
     "name": "stderr",
     "output_type": "stream",
     "text": [
      "100%|██████████| 12/12 [00:00<00:00, 19.56it/s]\n",
      "100%|██████████| 50/50.0 [00:01<00:00, 48.35it/s]\n",
      "Some weights of the model checkpoint at bert-large-uncased-whole-word-masking were not used when initializing bertMCMLM: ['cls.seq_relationship.weight', 'cls.seq_relationship.bias']\n",
      "- This IS expected if you are initializing bertMCMLM from the checkpoint of a model trained on another task or with another architecture (e.g. initializing a BertForSequenceClassification model from a BertForPreTraining model).\n",
      "- This IS NOT expected if you are initializing bertMCMLM from the checkpoint of a model that you expect to be exactly identical (initializing a BertForSequenceClassification model from a BertForSequenceClassification model).\n",
      " 17%|█▋        | 2/12 [00:00<00:00, 18.40it/s]"
     ]
    },
    {
     "name": "stdout",
     "output_type": "stream",
     "text": [
      "starting epoch 0\n"
     ]
    },
    {
     "name": "stderr",
     "output_type": "stream",
     "text": [
      "100%|██████████| 12/12 [00:00<00:00, 16.68it/s]\n",
      " 17%|█▋        | 2/12 [00:00<00:00, 18.72it/s]"
     ]
    },
    {
     "name": "stdout",
     "output_type": "stream",
     "text": [
      "starting epoch 1\n"
     ]
    },
    {
     "name": "stderr",
     "output_type": "stream",
     "text": [
      "100%|██████████| 12/12 [00:00<00:00, 19.65it/s]\n",
      " 25%|██▌       | 3/12 [00:00<00:00, 20.56it/s]"
     ]
    },
    {
     "name": "stdout",
     "output_type": "stream",
     "text": [
      "starting epoch 2\n"
     ]
    },
    {
     "name": "stderr",
     "output_type": "stream",
     "text": [
      "100%|██████████| 12/12 [00:00<00:00, 20.58it/s]\n",
      " 25%|██▌       | 3/12 [00:00<00:00, 20.58it/s]"
     ]
    },
    {
     "name": "stdout",
     "output_type": "stream",
     "text": [
      "starting epoch 3\n"
     ]
    },
    {
     "name": "stderr",
     "output_type": "stream",
     "text": [
      "100%|██████████| 12/12 [00:00<00:00, 18.97it/s]\n",
      "100%|██████████| 50/50.0 [00:01<00:00, 49.65it/s]\n",
      " 50%|█████     | 6/12 [00:00<00:00, 57.53it/s]"
     ]
    },
    {
     "name": "stdout",
     "output_type": "stream",
     "text": [
      "starting epoch 0\n"
     ]
    },
    {
     "name": "stderr",
     "output_type": "stream",
     "text": [
      "100%|██████████| 12/12 [00:00<00:00, 57.32it/s]\n",
      " 50%|█████     | 6/12 [00:00<00:00, 58.93it/s]"
     ]
    },
    {
     "name": "stdout",
     "output_type": "stream",
     "text": [
      "starting epoch 1\n"
     ]
    },
    {
     "name": "stderr",
     "output_type": "stream",
     "text": [
      "100%|██████████| 12/12 [00:00<00:00, 51.24it/s]\n",
      " 50%|█████     | 6/12 [00:00<00:00, 51.91it/s]"
     ]
    },
    {
     "name": "stdout",
     "output_type": "stream",
     "text": [
      "starting epoch 2\n"
     ]
    },
    {
     "name": "stderr",
     "output_type": "stream",
     "text": [
      "100%|██████████| 12/12 [00:00<00:00, 55.34it/s]\n",
      " 58%|█████▊    | 7/12 [00:00<00:00, 60.55it/s]"
     ]
    },
    {
     "name": "stdout",
     "output_type": "stream",
     "text": [
      "starting epoch 3\n"
     ]
    },
    {
     "name": "stderr",
     "output_type": "stream",
     "text": [
      "100%|██████████| 12/12 [00:00<00:00, 55.11it/s]\n",
      "100%|██████████| 50/50.0 [00:00<00:00, 85.93it/s]\n",
      " 33%|███▎      | 4/12 [00:00<00:00, 33.21it/s]"
     ]
    },
    {
     "name": "stdout",
     "output_type": "stream",
     "text": [
      "starting epoch 0\n"
     ]
    },
    {
     "name": "stderr",
     "output_type": "stream",
     "text": [
      "100%|██████████| 12/12 [00:00<00:00, 37.49it/s]\n",
      " 42%|████▏     | 5/12 [00:00<00:00, 40.51it/s]"
     ]
    },
    {
     "name": "stdout",
     "output_type": "stream",
     "text": [
      "starting epoch 1\n"
     ]
    },
    {
     "name": "stderr",
     "output_type": "stream",
     "text": [
      "100%|██████████| 12/12 [00:00<00:00, 40.55it/s]\n",
      " 42%|████▏     | 5/12 [00:00<00:00, 41.05it/s]"
     ]
    },
    {
     "name": "stdout",
     "output_type": "stream",
     "text": [
      "starting epoch 2\n"
     ]
    },
    {
     "name": "stderr",
     "output_type": "stream",
     "text": [
      "100%|██████████| 12/12 [00:00<00:00, 40.79it/s]\n",
      " 42%|████▏     | 5/12 [00:00<00:00, 40.70it/s]"
     ]
    },
    {
     "name": "stdout",
     "output_type": "stream",
     "text": [
      "starting epoch 3\n"
     ]
    },
    {
     "name": "stderr",
     "output_type": "stream",
     "text": [
      "100%|██████████| 12/12 [00:00<00:00, 40.53it/s]\n",
      "100%|██████████| 50/50.0 [00:00<00:00, 51.49it/s]\n",
      "Some weights of the model checkpoint at bert-base-uncased were not used when initializing bertMCMLM: ['cls.seq_relationship.weight', 'cls.seq_relationship.bias']\n",
      "- This IS expected if you are initializing bertMCMLM from the checkpoint of a model trained on another task or with another architecture (e.g. initializing a BertForSequenceClassification model from a BertForPreTraining model).\n",
      "- This IS NOT expected if you are initializing bertMCMLM from the checkpoint of a model that you expect to be exactly identical (initializing a BertForSequenceClassification model from a BertForSequenceClassification model).\n",
      " 12%|█▏        | 3/25 [00:00<00:01, 21.67it/s]"
     ]
    },
    {
     "name": "stdout",
     "output_type": "stream",
     "text": [
      "starting epoch 0\n"
     ]
    },
    {
     "name": "stderr",
     "output_type": "stream",
     "text": [
      "100%|██████████| 25/25 [00:01<00:00, 23.65it/s]\n",
      " 12%|█▏        | 3/25 [00:00<00:00, 23.03it/s]"
     ]
    },
    {
     "name": "stdout",
     "output_type": "stream",
     "text": [
      "starting epoch 1\n"
     ]
    },
    {
     "name": "stderr",
     "output_type": "stream",
     "text": [
      "100%|██████████| 25/25 [00:00<00:00, 25.16it/s]\n",
      " 12%|█▏        | 3/25 [00:00<00:00, 26.19it/s]"
     ]
    },
    {
     "name": "stdout",
     "output_type": "stream",
     "text": [
      "starting epoch 2\n"
     ]
    },
    {
     "name": "stderr",
     "output_type": "stream",
     "text": [
      "100%|██████████| 25/25 [00:00<00:00, 26.63it/s]\n",
      " 12%|█▏        | 3/25 [00:00<00:00, 26.83it/s]"
     ]
    },
    {
     "name": "stdout",
     "output_type": "stream",
     "text": [
      "starting epoch 3\n"
     ]
    },
    {
     "name": "stderr",
     "output_type": "stream",
     "text": [
      "100%|██████████| 25/25 [00:00<00:00, 26.99it/s]\n",
      "100%|██████████| 50/50.0 [00:00<00:00, 74.82it/s]\n",
      "Some weights of the model checkpoint at bert-large-uncased were not used when initializing bertMCMLM: ['cls.seq_relationship.weight', 'cls.seq_relationship.bias']\n",
      "- This IS expected if you are initializing bertMCMLM from the checkpoint of a model trained on another task or with another architecture (e.g. initializing a BertForSequenceClassification model from a BertForPreTraining model).\n",
      "- This IS NOT expected if you are initializing bertMCMLM from the checkpoint of a model that you expect to be exactly identical (initializing a BertForSequenceClassification model from a BertForSequenceClassification model).\n",
      "  8%|▊         | 2/25 [00:00<00:01, 17.68it/s]"
     ]
    },
    {
     "name": "stdout",
     "output_type": "stream",
     "text": [
      "starting epoch 0\n"
     ]
    },
    {
     "name": "stderr",
     "output_type": "stream",
     "text": [
      "100%|██████████| 25/25 [00:01<00:00, 20.77it/s]\n",
      " 12%|█▏        | 3/25 [00:00<00:01, 21.98it/s]"
     ]
    },
    {
     "name": "stdout",
     "output_type": "stream",
     "text": [
      "starting epoch 1\n"
     ]
    },
    {
     "name": "stderr",
     "output_type": "stream",
     "text": [
      "100%|██████████| 25/25 [00:01<00:00, 19.98it/s]\n",
      " 12%|█▏        | 3/25 [00:00<00:01, 21.37it/s]"
     ]
    },
    {
     "name": "stdout",
     "output_type": "stream",
     "text": [
      "starting epoch 2\n"
     ]
    },
    {
     "name": "stderr",
     "output_type": "stream",
     "text": [
      "100%|██████████| 25/25 [00:01<00:00, 20.23it/s]\n",
      " 12%|█▏        | 3/25 [00:00<00:01, 21.64it/s]"
     ]
    },
    {
     "name": "stdout",
     "output_type": "stream",
     "text": [
      "starting epoch 3\n"
     ]
    },
    {
     "name": "stderr",
     "output_type": "stream",
     "text": [
      "100%|██████████| 25/25 [00:01<00:00, 19.12it/s]\n",
      "100%|██████████| 50/50.0 [00:01<00:00, 47.82it/s]\n",
      "Some weights of the model checkpoint at bert-large-uncased-whole-word-masking were not used when initializing bertMCMLM: ['cls.seq_relationship.weight', 'cls.seq_relationship.bias']\n",
      "- This IS expected if you are initializing bertMCMLM from the checkpoint of a model trained on another task or with another architecture (e.g. initializing a BertForSequenceClassification model from a BertForPreTraining model).\n",
      "- This IS NOT expected if you are initializing bertMCMLM from the checkpoint of a model that you expect to be exactly identical (initializing a BertForSequenceClassification model from a BertForSequenceClassification model).\n",
      "  8%|▊         | 2/25 [00:00<00:01, 17.12it/s]"
     ]
    },
    {
     "name": "stdout",
     "output_type": "stream",
     "text": [
      "starting epoch 0\n"
     ]
    },
    {
     "name": "stderr",
     "output_type": "stream",
     "text": [
      "100%|██████████| 25/25 [00:01<00:00, 20.29it/s]\n",
      " 12%|█▏        | 3/25 [00:00<00:01, 21.40it/s]"
     ]
    },
    {
     "name": "stdout",
     "output_type": "stream",
     "text": [
      "starting epoch 1\n"
     ]
    },
    {
     "name": "stderr",
     "output_type": "stream",
     "text": [
      "100%|██████████| 25/25 [00:01<00:00, 20.13it/s]\n",
      " 12%|█▏        | 3/25 [00:00<00:01, 20.46it/s]"
     ]
    },
    {
     "name": "stdout",
     "output_type": "stream",
     "text": [
      "starting epoch 2\n"
     ]
    },
    {
     "name": "stderr",
     "output_type": "stream",
     "text": [
      "100%|██████████| 25/25 [00:01<00:00, 19.81it/s]\n",
      " 12%|█▏        | 3/25 [00:00<00:00, 22.14it/s]"
     ]
    },
    {
     "name": "stdout",
     "output_type": "stream",
     "text": [
      "starting epoch 3\n"
     ]
    },
    {
     "name": "stderr",
     "output_type": "stream",
     "text": [
      "100%|██████████| 25/25 [00:01<00:00, 20.42it/s]\n",
      "100%|██████████| 50/50.0 [00:01<00:00, 48.93it/s]\n",
      " 24%|██▍       | 6/25 [00:00<00:00, 57.17it/s]"
     ]
    },
    {
     "name": "stdout",
     "output_type": "stream",
     "text": [
      "starting epoch 0\n"
     ]
    },
    {
     "name": "stderr",
     "output_type": "stream",
     "text": [
      "100%|██████████| 25/25 [00:00<00:00, 57.90it/s]\n",
      " 24%|██▍       | 6/25 [00:00<00:00, 59.52it/s]"
     ]
    },
    {
     "name": "stdout",
     "output_type": "stream",
     "text": [
      "starting epoch 1\n"
     ]
    },
    {
     "name": "stderr",
     "output_type": "stream",
     "text": [
      "100%|██████████| 25/25 [00:00<00:00, 58.59it/s]\n",
      " 24%|██▍       | 6/25 [00:00<00:00, 59.59it/s]"
     ]
    },
    {
     "name": "stdout",
     "output_type": "stream",
     "text": [
      "starting epoch 2\n"
     ]
    },
    {
     "name": "stderr",
     "output_type": "stream",
     "text": [
      "100%|██████████| 25/25 [00:00<00:00, 54.65it/s]\n",
      " 24%|██▍       | 6/25 [00:00<00:00, 59.49it/s]"
     ]
    },
    {
     "name": "stdout",
     "output_type": "stream",
     "text": [
      "starting epoch 3\n"
     ]
    },
    {
     "name": "stderr",
     "output_type": "stream",
     "text": [
      "100%|██████████| 25/25 [00:00<00:00, 59.29it/s]\n",
      "100%|██████████| 50/50.0 [00:00<00:00, 84.71it/s]\n",
      " 16%|█▌        | 4/25 [00:00<00:00, 27.70it/s]"
     ]
    },
    {
     "name": "stdout",
     "output_type": "stream",
     "text": [
      "starting epoch 0\n"
     ]
    },
    {
     "name": "stderr",
     "output_type": "stream",
     "text": [
      "100%|██████████| 25/25 [00:00<00:00, 36.14it/s]\n",
      " 16%|█▌        | 4/25 [00:00<00:00, 39.93it/s]"
     ]
    },
    {
     "name": "stdout",
     "output_type": "stream",
     "text": [
      "starting epoch 1\n"
     ]
    },
    {
     "name": "stderr",
     "output_type": "stream",
     "text": [
      "100%|██████████| 25/25 [00:00<00:00, 40.12it/s]\n",
      " 20%|██        | 5/25 [00:00<00:00, 40.37it/s]"
     ]
    },
    {
     "name": "stdout",
     "output_type": "stream",
     "text": [
      "starting epoch 2\n"
     ]
    },
    {
     "name": "stderr",
     "output_type": "stream",
     "text": [
      "100%|██████████| 25/25 [00:00<00:00, 40.13it/s]\n",
      " 16%|█▌        | 4/25 [00:00<00:00, 39.96it/s]"
     ]
    },
    {
     "name": "stdout",
     "output_type": "stream",
     "text": [
      "starting epoch 3\n"
     ]
    },
    {
     "name": "stderr",
     "output_type": "stream",
     "text": [
      "100%|██████████| 25/25 [00:00<00:00, 39.53it/s]\n",
      "100%|██████████| 50/50.0 [00:00<00:00, 50.21it/s]\n",
      "100%|██████████| 100/100 [00:03<00:00, 26.21it/s]\n",
      "  3%|▎         | 3/100 [00:00<00:03, 27.01it/s]"
     ]
    },
    {
     "name": "stdout",
     "output_type": "stream",
     "text": [
      "starting epoch 2\n"
     ]
    },
    {
     "name": "stderr",
     "output_type": "stream",
     "text": [
      "100%|██████████| 100/100 [00:04<00:00, 24.87it/s]\n",
      "  3%|▎         | 3/100 [00:00<00:03, 27.57it/s]"
     ]
    },
    {
     "name": "stdout",
     "output_type": "stream",
     "text": [
      "starting epoch 3\n"
     ]
    },
    {
     "name": "stderr",
     "output_type": "stream",
     "text": [
      "100%|██████████| 100/100 [00:04<00:00, 24.86it/s]\n",
      "100%|██████████| 50/50.0 [00:00<00:00, 71.55it/s]\n",
      "Some weights of the model checkpoint at bert-large-uncased were not used when initializing bertMCMLM: ['cls.seq_relationship.weight', 'cls.seq_relationship.bias']\n",
      "- This IS expected if you are initializing bertMCMLM from the checkpoint of a model trained on another task or with another architecture (e.g. initializing a BertForSequenceClassification model from a BertForPreTraining model).\n",
      "- This IS NOT expected if you are initializing bertMCMLM from the checkpoint of a model that you expect to be exactly identical (initializing a BertForSequenceClassification model from a BertForSequenceClassification model).\n",
      "  2%|▏         | 2/100 [00:00<00:05, 17.87it/s]"
     ]
    },
    {
     "name": "stdout",
     "output_type": "stream",
     "text": [
      "starting epoch 0\n"
     ]
    },
    {
     "name": "stderr",
     "output_type": "stream",
     "text": [
      "100%|██████████| 100/100 [00:05<00:00, 17.47it/s]\n",
      "  3%|▎         | 3/100 [00:00<00:04, 21.60it/s]"
     ]
    },
    {
     "name": "stdout",
     "output_type": "stream",
     "text": [
      "starting epoch 1\n"
     ]
    },
    {
     "name": "stderr",
     "output_type": "stream",
     "text": [
      "100%|██████████| 100/100 [00:05<00:00, 18.61it/s]\n",
      "  2%|▏         | 2/100 [00:00<00:05, 19.17it/s]"
     ]
    },
    {
     "name": "stdout",
     "output_type": "stream",
     "text": [
      "starting epoch 2\n"
     ]
    },
    {
     "name": "stderr",
     "output_type": "stream",
     "text": [
      "100%|██████████| 100/100 [00:05<00:00, 17.63it/s]\n",
      "  3%|▎         | 3/100 [00:00<00:04, 19.71it/s]"
     ]
    },
    {
     "name": "stdout",
     "output_type": "stream",
     "text": [
      "starting epoch 3\n"
     ]
    },
    {
     "name": "stderr",
     "output_type": "stream",
     "text": [
      "100%|██████████| 100/100 [00:05<00:00, 19.89it/s]\n",
      "100%|██████████| 50/50.0 [00:01<00:00, 48.40it/s]\n",
      "Some weights of the model checkpoint at bert-large-uncased-whole-word-masking were not used when initializing bertMCMLM: ['cls.seq_relationship.weight', 'cls.seq_relationship.bias']\n",
      "- This IS expected if you are initializing bertMCMLM from the checkpoint of a model trained on another task or with another architecture (e.g. initializing a BertForSequenceClassification model from a BertForPreTraining model).\n",
      "- This IS NOT expected if you are initializing bertMCMLM from the checkpoint of a model that you expect to be exactly identical (initializing a BertForSequenceClassification model from a BertForSequenceClassification model).\n",
      "  2%|▏         | 2/100 [00:00<00:05, 19.38it/s]"
     ]
    },
    {
     "name": "stdout",
     "output_type": "stream",
     "text": [
      "starting epoch 0\n"
     ]
    },
    {
     "name": "stderr",
     "output_type": "stream",
     "text": [
      "100%|██████████| 100/100 [00:05<00:00, 19.03it/s]\n",
      "  3%|▎         | 3/100 [00:00<00:04, 20.92it/s]"
     ]
    },
    {
     "name": "stdout",
     "output_type": "stream",
     "text": [
      "starting epoch 1\n"
     ]
    },
    {
     "name": "stderr",
     "output_type": "stream",
     "text": [
      "100%|██████████| 100/100 [00:04<00:00, 20.18it/s]\n",
      "  2%|▏         | 2/100 [00:00<00:05, 19.03it/s]"
     ]
    },
    {
     "name": "stdout",
     "output_type": "stream",
     "text": [
      "starting epoch 2\n"
     ]
    },
    {
     "name": "stderr",
     "output_type": "stream",
     "text": [
      "100%|██████████| 100/100 [00:05<00:00, 19.85it/s]\n",
      "  3%|▎         | 3/100 [00:00<00:04, 21.08it/s]"
     ]
    },
    {
     "name": "stdout",
     "output_type": "stream",
     "text": [
      "starting epoch 3\n"
     ]
    },
    {
     "name": "stderr",
     "output_type": "stream",
     "text": [
      "100%|██████████| 100/100 [00:05<00:00, 19.53it/s]\n",
      "100%|██████████| 50/50.0 [00:01<00:00, 46.95it/s]\n",
      "  6%|▌         | 6/100 [00:00<00:01, 57.83it/s]"
     ]
    },
    {
     "name": "stdout",
     "output_type": "stream",
     "text": [
      "starting epoch 0\n"
     ]
    },
    {
     "name": "stderr",
     "output_type": "stream",
     "text": [
      "100%|██████████| 100/100 [00:01<00:00, 57.97it/s]\n",
      "  6%|▌         | 6/100 [00:00<00:01, 57.07it/s]"
     ]
    },
    {
     "name": "stdout",
     "output_type": "stream",
     "text": [
      "starting epoch 1\n"
     ]
    },
    {
     "name": "stderr",
     "output_type": "stream",
     "text": [
      "100%|██████████| 100/100 [00:01<00:00, 52.28it/s]\n",
      "  6%|▌         | 6/100 [00:00<00:01, 59.73it/s]"
     ]
    },
    {
     "name": "stdout",
     "output_type": "stream",
     "text": [
      "starting epoch 2\n"
     ]
    },
    {
     "name": "stderr",
     "output_type": "stream",
     "text": [
      "100%|██████████| 100/100 [00:01<00:00, 52.29it/s]\n",
      "  4%|▍         | 4/100 [00:00<00:02, 35.46it/s]"
     ]
    },
    {
     "name": "stdout",
     "output_type": "stream",
     "text": [
      "starting epoch 3\n"
     ]
    },
    {
     "name": "stderr",
     "output_type": "stream",
     "text": [
      "100%|██████████| 100/100 [00:02<00:00, 45.36it/s]\n",
      "100%|██████████| 50/50.0 [00:00<00:00, 91.85it/s]\n",
      "  4%|▍         | 4/100 [00:00<00:02, 33.22it/s]"
     ]
    },
    {
     "name": "stdout",
     "output_type": "stream",
     "text": [
      "starting epoch 0\n"
     ]
    },
    {
     "name": "stderr",
     "output_type": "stream",
     "text": [
      "100%|██████████| 100/100 [00:02<00:00, 36.46it/s]\n",
      "  4%|▍         | 4/100 [00:00<00:02, 39.69it/s]"
     ]
    },
    {
     "name": "stdout",
     "output_type": "stream",
     "text": [
      "starting epoch 1\n"
     ]
    },
    {
     "name": "stderr",
     "output_type": "stream",
     "text": [
      "100%|██████████| 100/100 [00:02<00:00, 38.90it/s]\n",
      "  5%|▌         | 5/100 [00:00<00:02, 40.05it/s]"
     ]
    },
    {
     "name": "stdout",
     "output_type": "stream",
     "text": [
      "starting epoch 2\n"
     ]
    },
    {
     "name": "stderr",
     "output_type": "stream",
     "text": [
      "100%|██████████| 100/100 [00:02<00:00, 39.70it/s]\n",
      "  3%|▎         | 3/100 [00:00<00:03, 24.94it/s]"
     ]
    },
    {
     "name": "stdout",
     "output_type": "stream",
     "text": [
      "starting epoch 3\n"
     ]
    },
    {
     "name": "stderr",
     "output_type": "stream",
     "text": [
      "100%|██████████| 100/100 [00:02<00:00, 33.64it/s]\n",
      "100%|██████████| 50/50.0 [00:01<00:00, 48.42it/s]\n",
      "Some weights of the model checkpoint at bert-base-uncased were not used when initializing bertMCMLM: ['cls.seq_relationship.weight', 'cls.seq_relationship.bias']\n",
      "- This IS expected if you are initializing bertMCMLM from the checkpoint of a model trained on another task or with another architecture (e.g. initializing a BertForSequenceClassification model from a BertForPreTraining model).\n",
      "- This IS NOT expected if you are initializing bertMCMLM from the checkpoint of a model that you expect to be exactly identical (initializing a BertForSequenceClassification model from a BertForSequenceClassification model).\n",
      "  2%|▏         | 3/200 [00:00<00:07, 27.91it/s]"
     ]
    },
    {
     "name": "stdout",
     "output_type": "stream",
     "text": [
      "starting epoch 0\n"
     ]
    },
    {
     "name": "stderr",
     "output_type": "stream",
     "text": [
      "100%|██████████| 200/200 [00:07<00:00, 25.74it/s]\n",
      "  2%|▏         | 3/200 [00:00<00:07, 26.94it/s]"
     ]
    },
    {
     "name": "stdout",
     "output_type": "stream",
     "text": [
      "starting epoch 1\n"
     ]
    },
    {
     "name": "stderr",
     "output_type": "stream",
     "text": [
      "100%|██████████| 200/200 [00:07<00:00, 26.61it/s]\n",
      "  2%|▏         | 3/200 [00:00<00:07, 26.91it/s]"
     ]
    },
    {
     "name": "stdout",
     "output_type": "stream",
     "text": [
      "starting epoch 2\n"
     ]
    },
    {
     "name": "stderr",
     "output_type": "stream",
     "text": [
      "100%|██████████| 200/200 [00:07<00:00, 26.79it/s]\n",
      "  2%|▏         | 3/200 [00:00<00:07, 26.76it/s]"
     ]
    },
    {
     "name": "stdout",
     "output_type": "stream",
     "text": [
      "starting epoch 3\n"
     ]
    },
    {
     "name": "stderr",
     "output_type": "stream",
     "text": [
      "100%|██████████| 200/200 [00:07<00:00, 26.54it/s]\n",
      "100%|██████████| 50/50.0 [00:00<00:00, 77.80it/s]\n",
      "Some weights of the model checkpoint at bert-large-uncased were not used when initializing bertMCMLM: ['cls.seq_relationship.weight', 'cls.seq_relationship.bias']\n",
      "- This IS expected if you are initializing bertMCMLM from the checkpoint of a model trained on another task or with another architecture (e.g. initializing a BertForSequenceClassification model from a BertForPreTraining model).\n",
      "- This IS NOT expected if you are initializing bertMCMLM from the checkpoint of a model that you expect to be exactly identical (initializing a BertForSequenceClassification model from a BertForSequenceClassification model).\n",
      "  1%|          | 2/200 [00:00<00:10, 19.25it/s]"
     ]
    },
    {
     "name": "stdout",
     "output_type": "stream",
     "text": [
      "starting epoch 0\n"
     ]
    },
    {
     "name": "stderr",
     "output_type": "stream",
     "text": [
      "100%|██████████| 200/200 [00:10<00:00, 19.99it/s]\n",
      "  1%|          | 2/200 [00:00<00:10, 18.18it/s]"
     ]
    },
    {
     "name": "stdout",
     "output_type": "stream",
     "text": [
      "starting epoch 1\n"
     ]
    },
    {
     "name": "stderr",
     "output_type": "stream",
     "text": [
      "100%|██████████| 200/200 [00:10<00:00, 19.00it/s]\n",
      "  1%|          | 2/200 [00:00<00:11, 17.29it/s]"
     ]
    },
    {
     "name": "stdout",
     "output_type": "stream",
     "text": [
      "starting epoch 2\n"
     ]
    },
    {
     "name": "stderr",
     "output_type": "stream",
     "text": [
      "100%|██████████| 200/200 [00:10<00:00, 19.39it/s]\n",
      "  1%|          | 2/200 [00:00<00:11, 17.21it/s]"
     ]
    },
    {
     "name": "stdout",
     "output_type": "stream",
     "text": [
      "starting epoch 3\n"
     ]
    },
    {
     "name": "stderr",
     "output_type": "stream",
     "text": [
      "100%|██████████| 200/200 [00:10<00:00, 18.92it/s]\n",
      "100%|██████████| 50/50.0 [00:01<00:00, 48.06it/s]\n",
      "Some weights of the model checkpoint at bert-large-uncased-whole-word-masking were not used when initializing bertMCMLM: ['cls.seq_relationship.weight', 'cls.seq_relationship.bias']\n",
      "- This IS expected if you are initializing bertMCMLM from the checkpoint of a model trained on another task or with another architecture (e.g. initializing a BertForSequenceClassification model from a BertForPreTraining model).\n",
      "- This IS NOT expected if you are initializing bertMCMLM from the checkpoint of a model that you expect to be exactly identical (initializing a BertForSequenceClassification model from a BertForSequenceClassification model).\n",
      "  2%|▏         | 3/200 [00:00<00:09, 20.41it/s]"
     ]
    },
    {
     "name": "stdout",
     "output_type": "stream",
     "text": [
      "starting epoch 0\n"
     ]
    },
    {
     "name": "stderr",
     "output_type": "stream",
     "text": [
      "100%|██████████| 200/200 [00:10<00:00, 19.73it/s]\n",
      "  2%|▏         | 3/200 [00:00<00:09, 21.64it/s]"
     ]
    },
    {
     "name": "stdout",
     "output_type": "stream",
     "text": [
      "starting epoch 1\n"
     ]
    },
    {
     "name": "stderr",
     "output_type": "stream",
     "text": [
      "100%|██████████| 200/200 [00:09<00:00, 20.32it/s]\n",
      "  1%|          | 2/200 [00:00<00:10, 19.00it/s]"
     ]
    },
    {
     "name": "stdout",
     "output_type": "stream",
     "text": [
      "starting epoch 2\n"
     ]
    },
    {
     "name": "stderr",
     "output_type": "stream",
     "text": [
      "100%|██████████| 200/200 [00:09<00:00, 20.16it/s]\n",
      "  2%|▏         | 3/200 [00:00<00:09, 21.23it/s]"
     ]
    },
    {
     "name": "stdout",
     "output_type": "stream",
     "text": [
      "starting epoch 3\n"
     ]
    },
    {
     "name": "stderr",
     "output_type": "stream",
     "text": [
      "100%|██████████| 200/200 [00:10<00:00, 19.26it/s]\n",
      "100%|██████████| 50/50.0 [00:01<00:00, 47.99it/s]\n",
      "  2%|▏         | 4/200 [00:00<00:05, 38.30it/s]"
     ]
    },
    {
     "name": "stdout",
     "output_type": "stream",
     "text": [
      "starting epoch 0\n"
     ]
    },
    {
     "name": "stderr",
     "output_type": "stream",
     "text": [
      "100%|██████████| 200/200 [00:04<00:00, 49.35it/s]\n",
      "  4%|▎         | 7/200 [00:00<00:03, 60.63it/s]"
     ]
    },
    {
     "name": "stdout",
     "output_type": "stream",
     "text": [
      "starting epoch 1\n"
     ]
    },
    {
     "name": "stderr",
     "output_type": "stream",
     "text": [
      "100%|██████████| 200/200 [00:03<00:00, 56.90it/s]\n",
      "  2%|▏         | 4/200 [00:00<00:06, 30.66it/s]"
     ]
    },
    {
     "name": "stdout",
     "output_type": "stream",
     "text": [
      "starting epoch 2\n"
     ]
    },
    {
     "name": "stderr",
     "output_type": "stream",
     "text": [
      "100%|██████████| 200/200 [00:03<00:00, 55.02it/s]\n",
      "  3%|▎         | 6/200 [00:00<00:03, 59.00it/s]"
     ]
    },
    {
     "name": "stdout",
     "output_type": "stream",
     "text": [
      "starting epoch 3\n"
     ]
    },
    {
     "name": "stderr",
     "output_type": "stream",
     "text": [
      "100%|██████████| 200/200 [00:03<00:00, 53.55it/s]\n",
      "100%|██████████| 50/50.0 [00:00<00:00, 91.76it/s]\n",
      "  2%|▏         | 4/200 [00:00<00:05, 38.61it/s]"
     ]
    },
    {
     "name": "stdout",
     "output_type": "stream",
     "text": [
      "starting epoch 0\n"
     ]
    },
    {
     "name": "stderr",
     "output_type": "stream",
     "text": [
      "100%|██████████| 200/200 [00:05<00:00, 38.59it/s]\n",
      "  2%|▎         | 5/200 [00:00<00:04, 40.22it/s]"
     ]
    },
    {
     "name": "stdout",
     "output_type": "stream",
     "text": [
      "starting epoch 1\n"
     ]
    },
    {
     "name": "stderr",
     "output_type": "stream",
     "text": [
      "100%|██████████| 200/200 [00:05<00:00, 36.43it/s]\n",
      "  2%|▏         | 4/200 [00:00<00:04, 39.85it/s]"
     ]
    },
    {
     "name": "stdout",
     "output_type": "stream",
     "text": [
      "starting epoch 2\n"
     ]
    },
    {
     "name": "stderr",
     "output_type": "stream",
     "text": [
      "100%|██████████| 200/200 [00:05<00:00, 36.81it/s]\n",
      "  2%|▏         | 4/200 [00:00<00:04, 39.77it/s]"
     ]
    },
    {
     "name": "stdout",
     "output_type": "stream",
     "text": [
      "starting epoch 3\n"
     ]
    },
    {
     "name": "stderr",
     "output_type": "stream",
     "text": [
      "100%|██████████| 200/200 [00:05<00:00, 38.31it/s]\n",
      "100%|██████████| 50/50.0 [00:01<00:00, 49.90it/s]\n",
      "Some weights of the model checkpoint at bert-base-uncased were not used when initializing bertMCMLM: ['cls.seq_relationship.weight', 'cls.seq_relationship.bias']\n",
      "- This IS expected if you are initializing bertMCMLM from the checkpoint of a model trained on another task or with another architecture (e.g. initializing a BertForSequenceClassification model from a BertForPreTraining model).\n",
      "- This IS NOT expected if you are initializing bertMCMLM from the checkpoint of a model that you expect to be exactly identical (initializing a BertForSequenceClassification model from a BertForSequenceClassification model).\n",
      "  1%|          | 3/400 [00:00<00:13, 29.44it/s]"
     ]
    },
    {
     "name": "stdout",
     "output_type": "stream",
     "text": [
      "starting epoch 0\n"
     ]
    },
    {
     "name": "stderr",
     "output_type": "stream",
     "text": [
      "100%|██████████| 400/400 [00:15<00:00, 26.06it/s]\n",
      "  1%|          | 3/400 [00:00<00:14, 27.97it/s]"
     ]
    },
    {
     "name": "stdout",
     "output_type": "stream",
     "text": [
      "starting epoch 1\n"
     ]
    },
    {
     "name": "stderr",
     "output_type": "stream",
     "text": [
      "100%|██████████| 400/400 [00:15<00:00, 25.97it/s]\n",
      "  1%|          | 3/400 [00:00<00:14, 26.54it/s]"
     ]
    },
    {
     "name": "stdout",
     "output_type": "stream",
     "text": [
      "starting epoch 2\n"
     ]
    },
    {
     "name": "stderr",
     "output_type": "stream",
     "text": [
      "100%|██████████| 400/400 [00:16<00:00, 24.87it/s]\n",
      "  1%|          | 3/400 [00:00<00:14, 27.05it/s]"
     ]
    },
    {
     "name": "stdout",
     "output_type": "stream",
     "text": [
      "starting epoch 3\n"
     ]
    },
    {
     "name": "stderr",
     "output_type": "stream",
     "text": [
      "100%|██████████| 400/400 [00:15<00:00, 25.43it/s]\n",
      "100%|██████████| 50/50.0 [00:00<00:00, 74.12it/s]\n",
      "Some weights of the model checkpoint at bert-large-uncased were not used when initializing bertMCMLM: ['cls.seq_relationship.weight', 'cls.seq_relationship.bias']\n",
      "- This IS expected if you are initializing bertMCMLM from the checkpoint of a model trained on another task or with another architecture (e.g. initializing a BertForSequenceClassification model from a BertForPreTraining model).\n",
      "- This IS NOT expected if you are initializing bertMCMLM from the checkpoint of a model that you expect to be exactly identical (initializing a BertForSequenceClassification model from a BertForSequenceClassification model).\n",
      "  0%|          | 2/400 [00:00<00:20, 19.08it/s]"
     ]
    },
    {
     "name": "stdout",
     "output_type": "stream",
     "text": [
      "starting epoch 0\n"
     ]
    },
    {
     "name": "stderr",
     "output_type": "stream",
     "text": [
      "100%|██████████| 400/400 [00:21<00:00, 18.27it/s]\n",
      "  0%|          | 2/400 [00:00<00:20, 19.25it/s]"
     ]
    },
    {
     "name": "stdout",
     "output_type": "stream",
     "text": [
      "starting epoch 1\n"
     ]
    },
    {
     "name": "stderr",
     "output_type": "stream",
     "text": [
      "100%|██████████| 400/400 [00:20<00:00, 19.87it/s]\n",
      "  1%|          | 3/400 [00:00<00:18, 21.60it/s]"
     ]
    },
    {
     "name": "stdout",
     "output_type": "stream",
     "text": [
      "starting epoch 2\n"
     ]
    },
    {
     "name": "stderr",
     "output_type": "stream",
     "text": [
      " 82%|████████▎ | 330/400 [00:16<00:03, 20.12it/s]IOPub message rate exceeded.\n",
      "The notebook server will temporarily stop sending output\n",
      "to the client in order to avoid crashing it.\n",
      "To change this limit, set the config variable\n",
      "`--NotebookApp.iopub_msg_rate_limit`.\n",
      "\n",
      "Current values:\n",
      "NotebookApp.iopub_msg_rate_limit=1000.0 (msgs/sec)\n",
      "NotebookApp.rate_limit_window=3.0 (secs)\n",
      "\n"
     ]
    }
   ],
   "source": [
    "N= [0, 60, 120, 250, 500, 1000, 2000, 4000]\n",
    "results = pd.DataFrame([], columns=models)\n",
    "models = ['bert-base-uncased', 'bert-large-uncased', 'bert-large-uncased-whole-word-masking', 'roberta-base', 'roberta-large']\n",
    "# models = [berts, robertaMCMLM]\n",
    "\n",
    "for i, n in enumerate(N):\n",
    "    for modeltype in models:\n",
    "        if 'roberta' in modeltype:\n",
    "            tokenizer = RobertaTokenizer.from_pretrained(modeltype, do_lower_case=True)\n",
    "            model = robertaMCMLM.from_pretrained(modeltype)\n",
    "        else:\n",
    "            tokenizer = BertTokenizer.from_pretrained(modeltype, do_lower_case=True)\n",
    "            model = bertMCMLM.from_pretrained(modeltype)\n",
    "        model.train()\n",
    "        model = fine_tuneMLM(model, tokenizer, n)\n",
    "        model.eval()\n",
    "        accuracy = evaluateMLM(model, tokenizer, dataset['dev'])\n",
    "        results.loc[n, modeltype]= accuracy      "
   ]
  },
  {
   "cell_type": "code",
   "execution_count": 105,
   "id": "worth-rehabilitation",
   "metadata": {},
   "outputs": [
    {
     "data": {
      "text/plain": [
       "<AxesSubplot:>"
      ]
     },
     "execution_count": 105,
     "metadata": {},
     "output_type": "execute_result"
    },
    {
     "data": {
      "image/png": "[encoded data removed]",
      "text/plain": [
       "<Figure size 720x504 with 1 Axes>"
      ]
     },
     "metadata": {
      "needs_background": "light"
     },
     "output_type": "display_data"
    }
   ],
   "source": [
    "results.plot(figsize=(10,7))"
   ]
  },
  {
   "cell_type": "markdown",
   "id": "solved-tower",
   "metadata": {},
   "source": [
    "### No Lang"
   ]
  },
  {
   "cell_type": "code",
   "execution_count": 131,
   "id": "original-ocean",
   "metadata": {},
   "outputs": [
    {
     "name": "stderr",
     "output_type": "stream",
     "text": [
      "Some weights of the model checkpoint at bert-large-uncased-whole-word-masking were not used when initializing bertMCMLM: ['cls.seq_relationship.weight', 'cls.seq_relationship.bias']\n",
      "- This IS expected if you are initializing bertMCMLM from the checkpoint of a model trained on another task or with another architecture (e.g. initializing a BertForSequenceClassification model from a BertForPreTraining model).\n",
      "- This IS NOT expected if you are initializing bertMCMLM from the checkpoint of a model that you expect to be exactly identical (initializing a BertForSequenceClassification model from a BertForSequenceClassification model).\n",
      "0it [00:00, ?it/s]\n",
      "0it [00:00, ?it/s]\n",
      "0it [00:00, ?it/s]\n",
      "0it [00:00, ?it/s]\n",
      " 10%|█         | 5/50.0 [00:00<00:00, 47.96it/s]"
     ]
    },
    {
     "name": "stdout",
     "output_type": "stream",
     "text": [
      "starting epoch 0\n",
      "starting epoch 1\n",
      "starting epoch 2\n",
      "starting epoch 3\n"
     ]
    },
    {
     "name": "stderr",
     "output_type": "stream",
     "text": [
      "100%|██████████| 50/50.0 [00:01<00:00, 47.69it/s]\n",
      "100%|██████████| 50/50.0 [00:00<00:00, 56.97it/s]\n",
      "0it [00:00, ?it/s]\n",
      "0it [00:00, ?it/s]\n",
      "0it [00:00, ?it/s]\n",
      "0it [00:00, ?it/s]\n",
      " 10%|█         | 5/50.0 [00:00<00:00, 47.79it/s]"
     ]
    },
    {
     "name": "stdout",
     "output_type": "stream",
     "text": [
      "starting epoch 0\n",
      "starting epoch 1\n",
      "starting epoch 2\n",
      "starting epoch 3\n"
     ]
    },
    {
     "name": "stderr",
     "output_type": "stream",
     "text": [
      "100%|██████████| 50/50.0 [00:00<00:00, 51.01it/s]\n",
      "100%|██████████| 50/50.0 [00:00<00:00, 64.44it/s]\n",
      "Some weights of the model checkpoint at bert-large-uncased-whole-word-masking were not used when initializing bertMCMLM: ['cls.seq_relationship.weight', 'cls.seq_relationship.bias']\n",
      "- This IS expected if you are initializing bertMCMLM from the checkpoint of a model trained on another task or with another architecture (e.g. initializing a BertForSequenceClassification model from a BertForPreTraining model).\n",
      "- This IS NOT expected if you are initializing bertMCMLM from the checkpoint of a model that you expect to be exactly identical (initializing a BertForSequenceClassification model from a BertForSequenceClassification model).\n",
      " 33%|███▎      | 2/6 [00:00<00:00, 19.09it/s]"
     ]
    },
    {
     "name": "stdout",
     "output_type": "stream",
     "text": [
      "starting epoch 0\n"
     ]
    },
    {
     "name": "stderr",
     "output_type": "stream",
     "text": [
      "100%|██████████| 6/6 [00:00<00:00, 19.41it/s]\n",
      " 50%|█████     | 3/6 [00:00<00:00, 20.80it/s]"
     ]
    },
    {
     "name": "stdout",
     "output_type": "stream",
     "text": [
      "starting epoch 1\n"
     ]
    },
    {
     "name": "stderr",
     "output_type": "stream",
     "text": [
      "100%|██████████| 6/6 [00:00<00:00, 20.41it/s]\n",
      " 33%|███▎      | 2/6 [00:00<00:00, 18.87it/s]"
     ]
    },
    {
     "name": "stdout",
     "output_type": "stream",
     "text": [
      "starting epoch 2\n"
     ]
    },
    {
     "name": "stderr",
     "output_type": "stream",
     "text": [
      "100%|██████████| 6/6 [00:00<00:00, 19.70it/s]\n",
      " 50%|█████     | 3/6 [00:00<00:00, 20.72it/s]"
     ]
    },
    {
     "name": "stdout",
     "output_type": "stream",
     "text": [
      "starting epoch 3\n"
     ]
    },
    {
     "name": "stderr",
     "output_type": "stream",
     "text": [
      "100%|██████████| 6/6 [00:00<00:00, 20.43it/s]\n",
      "100%|██████████| 50/50.0 [00:01<00:00, 47.78it/s]\n",
      "100%|██████████| 50/50.0 [00:00<00:00, 57.51it/s]\n",
      "100%|██████████| 6/6 [00:00<00:00, 36.74it/s]\n",
      "  0%|          | 0/6 [00:00<?, ?it/s]"
     ]
    },
    {
     "name": "stdout",
     "output_type": "stream",
     "text": [
      "starting epoch 0\n",
      "starting epoch 1\n"
     ]
    },
    {
     "name": "stderr",
     "output_type": "stream",
     "text": [
      "100%|██████████| 6/6 [00:00<00:00, 40.74it/s]\n",
      "100%|██████████| 6/6 [00:00<00:00, 40.32it/s]\n",
      "  0%|          | 0/6 [00:00<?, ?it/s]"
     ]
    },
    {
     "name": "stdout",
     "output_type": "stream",
     "text": [
      "starting epoch 2\n",
      "starting epoch 3\n"
     ]
    },
    {
     "name": "stderr",
     "output_type": "stream",
     "text": [
      "100%|██████████| 6/6 [00:00<00:00, 40.29it/s]\n",
      "100%|██████████| 50/50.0 [00:00<00:00, 51.99it/s]\n",
      "100%|██████████| 50/50.0 [00:00<00:00, 66.38it/s]\n",
      "Some weights of the model checkpoint at bert-large-uncased-whole-word-masking were not used when initializing bertMCMLM: ['cls.seq_relationship.weight', 'cls.seq_relationship.bias']\n",
      "- This IS expected if you are initializing bertMCMLM from the checkpoint of a model trained on another task or with another architecture (e.g. initializing a BertForSequenceClassification model from a BertForPreTraining model).\n",
      "- This IS NOT expected if you are initializing bertMCMLM from the checkpoint of a model that you expect to be exactly identical (initializing a BertForSequenceClassification model from a BertForSequenceClassification model).\n",
      " 17%|█▋        | 2/12 [00:00<00:00, 19.13it/s]"
     ]
    },
    {
     "name": "stdout",
     "output_type": "stream",
     "text": [
      "starting epoch 0\n"
     ]
    },
    {
     "name": "stderr",
     "output_type": "stream",
     "text": [
      "100%|██████████| 12/12 [00:00<00:00, 20.45it/s]\n",
      " 17%|█▋        | 2/12 [00:00<00:00, 18.58it/s]"
     ]
    },
    {
     "name": "stdout",
     "output_type": "stream",
     "text": [
      "starting epoch 1\n"
     ]
    },
    {
     "name": "stderr",
     "output_type": "stream",
     "text": [
      "100%|██████████| 12/12 [00:00<00:00, 19.55it/s]\n",
      " 17%|█▋        | 2/12 [00:00<00:00, 18.47it/s]"
     ]
    },
    {
     "name": "stdout",
     "output_type": "stream",
     "text": [
      "starting epoch 2\n"
     ]
    },
    {
     "name": "stderr",
     "output_type": "stream",
     "text": [
      "100%|██████████| 12/12 [00:00<00:00, 20.20it/s]\n",
      " 17%|█▋        | 2/12 [00:00<00:00, 19.20it/s]"
     ]
    },
    {
     "name": "stdout",
     "output_type": "stream",
     "text": [
      "starting epoch 3\n"
     ]
    },
    {
     "name": "stderr",
     "output_type": "stream",
     "text": [
      "100%|██████████| 12/12 [00:00<00:00, 20.46it/s]\n",
      "100%|██████████| 50/50.0 [00:01<00:00, 48.43it/s]\n",
      "100%|██████████| 50/50.0 [00:00<00:00, 57.50it/s]\n",
      " 42%|████▏     | 5/12 [00:00<00:00, 40.45it/s]"
     ]
    },
    {
     "name": "stdout",
     "output_type": "stream",
     "text": [
      "starting epoch 0\n"
     ]
    },
    {
     "name": "stderr",
     "output_type": "stream",
     "text": [
      "100%|██████████| 12/12 [00:00<00:00, 40.33it/s]\n",
      " 42%|████▏     | 5/12 [00:00<00:00, 41.07it/s]"
     ]
    },
    {
     "name": "stdout",
     "output_type": "stream",
     "text": [
      "starting epoch 1\n"
     ]
    },
    {
     "name": "stderr",
     "output_type": "stream",
     "text": [
      "100%|██████████| 12/12 [00:00<00:00, 40.63it/s]\n",
      " 42%|████▏     | 5/12 [00:00<00:00, 40.62it/s]"
     ]
    },
    {
     "name": "stdout",
     "output_type": "stream",
     "text": [
      "starting epoch 2\n"
     ]
    },
    {
     "name": "stderr",
     "output_type": "stream",
     "text": [
      "100%|██████████| 12/12 [00:00<00:00, 40.23it/s]\n",
      " 42%|████▏     | 5/12 [00:00<00:00, 40.96it/s]"
     ]
    },
    {
     "name": "stdout",
     "output_type": "stream",
     "text": [
      "starting epoch 3\n"
     ]
    },
    {
     "name": "stderr",
     "output_type": "stream",
     "text": [
      "100%|██████████| 12/12 [00:00<00:00, 40.59it/s]\n",
      "100%|██████████| 50/50.0 [00:01<00:00, 49.31it/s]\n",
      "100%|██████████| 50/50.0 [00:00<00:00, 64.08it/s]\n",
      "Some weights of the model checkpoint at bert-large-uncased-whole-word-masking were not used when initializing bertMCMLM: ['cls.seq_relationship.weight', 'cls.seq_relationship.bias']\n",
      "- This IS expected if you are initializing bertMCMLM from the checkpoint of a model trained on another task or with another architecture (e.g. initializing a BertForSequenceClassification model from a BertForPreTraining model).\n",
      "- This IS NOT expected if you are initializing bertMCMLM from the checkpoint of a model that you expect to be exactly identical (initializing a BertForSequenceClassification model from a BertForSequenceClassification model).\n",
      "  8%|▊         | 2/25 [00:00<00:01, 18.57it/s]"
     ]
    },
    {
     "name": "stdout",
     "output_type": "stream",
     "text": [
      "starting epoch 0\n"
     ]
    },
    {
     "name": "stderr",
     "output_type": "stream",
     "text": [
      "100%|██████████| 25/25 [00:01<00:00, 20.09it/s]\n",
      "  8%|▊         | 2/25 [00:00<00:01, 18.22it/s]"
     ]
    },
    {
     "name": "stdout",
     "output_type": "stream",
     "text": [
      "starting epoch 1\n"
     ]
    },
    {
     "name": "stderr",
     "output_type": "stream",
     "text": [
      "100%|██████████| 25/25 [00:01<00:00, 19.47it/s]\n",
      " 12%|█▏        | 3/25 [00:00<00:01, 19.41it/s]"
     ]
    },
    {
     "name": "stdout",
     "output_type": "stream",
     "text": [
      "starting epoch 2\n"
     ]
    },
    {
     "name": "stderr",
     "output_type": "stream",
     "text": [
      "100%|██████████| 25/25 [00:01<00:00, 19.15it/s]\n",
      "  8%|▊         | 2/25 [00:00<00:01, 18.43it/s]"
     ]
    },
    {
     "name": "stdout",
     "output_type": "stream",
     "text": [
      "starting epoch 3\n"
     ]
    },
    {
     "name": "stderr",
     "output_type": "stream",
     "text": [
      "100%|██████████| 25/25 [00:01<00:00, 15.98it/s]\n",
      "100%|██████████| 50/50.0 [00:01<00:00, 49.48it/s]\n",
      "100%|██████████| 50/50.0 [00:00<00:00, 56.16it/s]\n",
      " 16%|█▌        | 4/25 [00:00<00:00, 39.13it/s]"
     ]
    },
    {
     "name": "stdout",
     "output_type": "stream",
     "text": [
      "starting epoch 0\n"
     ]
    },
    {
     "name": "stderr",
     "output_type": "stream",
     "text": [
      "100%|██████████| 25/25 [00:00<00:00, 40.12it/s]\n",
      " 20%|██        | 5/25 [00:00<00:00, 40.58it/s]"
     ]
    },
    {
     "name": "stdout",
     "output_type": "stream",
     "text": [
      "starting epoch 1\n"
     ]
    },
    {
     "name": "stderr",
     "output_type": "stream",
     "text": [
      "100%|██████████| 25/25 [00:00<00:00, 40.50it/s]\n",
      " 20%|██        | 5/25 [00:00<00:00, 40.74it/s]"
     ]
    },
    {
     "name": "stdout",
     "output_type": "stream",
     "text": [
      "starting epoch 2\n"
     ]
    },
    {
     "name": "stderr",
     "output_type": "stream",
     "text": [
      "100%|██████████| 25/25 [00:00<00:00, 40.12it/s]\n",
      " 20%|██        | 5/25 [00:00<00:00, 40.41it/s]"
     ]
    },
    {
     "name": "stdout",
     "output_type": "stream",
     "text": [
      "starting epoch 3\n"
     ]
    },
    {
     "name": "stderr",
     "output_type": "stream",
     "text": [
      "100%|██████████| 25/25 [00:00<00:00, 40.22it/s]\n",
      "100%|██████████| 50/50.0 [00:00<00:00, 50.17it/s]\n",
      "100%|██████████| 50/50.0 [00:00<00:00, 66.69it/s]\n",
      "Some weights of the model checkpoint at bert-large-uncased-whole-word-masking were not used when initializing bertMCMLM: ['cls.seq_relationship.weight', 'cls.seq_relationship.bias']\n",
      "- This IS expected if you are initializing bertMCMLM from the checkpoint of a model trained on another task or with another architecture (e.g. initializing a BertForSequenceClassification model from a BertForPreTraining model).\n",
      "- This IS NOT expected if you are initializing bertMCMLM from the checkpoint of a model that you expect to be exactly identical (initializing a BertForSequenceClassification model from a BertForSequenceClassification model).\n",
      "  4%|▍         | 2/50 [00:00<00:02, 16.43it/s]"
     ]
    },
    {
     "name": "stdout",
     "output_type": "stream",
     "text": [
      "starting epoch 0\n"
     ]
    },
    {
     "name": "stderr",
     "output_type": "stream",
     "text": [
      "100%|██████████| 50/50 [00:02<00:00, 19.96it/s]\n",
      "  4%|▍         | 2/50 [00:00<00:02, 19.91it/s]"
     ]
    },
    {
     "name": "stdout",
     "output_type": "stream",
     "text": [
      "starting epoch 1\n"
     ]
    },
    {
     "name": "stderr",
     "output_type": "stream",
     "text": [
      "100%|██████████| 50/50 [00:02<00:00, 19.37it/s]\n",
      "  6%|▌         | 3/50 [00:00<00:02, 20.30it/s]"
     ]
    },
    {
     "name": "stdout",
     "output_type": "stream",
     "text": [
      "starting epoch 2\n"
     ]
    },
    {
     "name": "stderr",
     "output_type": "stream",
     "text": [
      "100%|██████████| 50/50 [00:02<00:00, 18.55it/s]\n",
      "  4%|▍         | 2/50 [00:00<00:02, 19.94it/s]"
     ]
    },
    {
     "name": "stdout",
     "output_type": "stream",
     "text": [
      "starting epoch 3\n"
     ]
    },
    {
     "name": "stderr",
     "output_type": "stream",
     "text": [
      "100%|██████████| 50/50 [00:02<00:00, 19.65it/s]\n",
      "100%|██████████| 50/50.0 [00:01<00:00, 47.44it/s]\n",
      "100%|██████████| 50/50.0 [00:00<00:00, 56.24it/s]\n",
      "  8%|▊         | 4/50 [00:00<00:01, 30.01it/s]"
     ]
    },
    {
     "name": "stdout",
     "output_type": "stream",
     "text": [
      "starting epoch 0\n"
     ]
    },
    {
     "name": "stderr",
     "output_type": "stream",
     "text": [
      "100%|██████████| 50/50 [00:01<00:00, 35.77it/s]\n",
      " 10%|█         | 5/50 [00:00<00:01, 40.57it/s]"
     ]
    },
    {
     "name": "stdout",
     "output_type": "stream",
     "text": [
      "starting epoch 1\n"
     ]
    },
    {
     "name": "stderr",
     "output_type": "stream",
     "text": [
      "100%|██████████| 50/50 [00:01<00:00, 40.20it/s]\n",
      " 10%|█         | 5/50 [00:00<00:01, 40.09it/s]"
     ]
    },
    {
     "name": "stdout",
     "output_type": "stream",
     "text": [
      "starting epoch 2\n"
     ]
    },
    {
     "name": "stderr",
     "output_type": "stream",
     "text": [
      "100%|██████████| 50/50 [00:01<00:00, 38.92it/s]\n",
      "  8%|▊         | 4/50 [00:00<00:01, 39.60it/s]"
     ]
    },
    {
     "name": "stdout",
     "output_type": "stream",
     "text": [
      "starting epoch 3\n"
     ]
    },
    {
     "name": "stderr",
     "output_type": "stream",
     "text": [
      "100%|██████████| 50/50 [00:01<00:00, 39.20it/s]\n",
      "100%|██████████| 50/50.0 [00:00<00:00, 50.76it/s]\n",
      "100%|██████████| 50/50.0 [00:00<00:00, 64.64it/s]\n",
      "Some weights of the model checkpoint at bert-large-uncased-whole-word-masking were not used when initializing bertMCMLM: ['cls.seq_relationship.weight', 'cls.seq_relationship.bias']\n",
      "- This IS expected if you are initializing bertMCMLM from the checkpoint of a model trained on another task or with another architecture (e.g. initializing a BertForSequenceClassification model from a BertForPreTraining model).\n",
      "- This IS NOT expected if you are initializing bertMCMLM from the checkpoint of a model that you expect to be exactly identical (initializing a BertForSequenceClassification model from a BertForSequenceClassification model).\n",
      "  2%|▏         | 2/100 [00:00<00:06, 15.40it/s]"
     ]
    },
    {
     "name": "stdout",
     "output_type": "stream",
     "text": [
      "starting epoch 0\n"
     ]
    },
    {
     "name": "stderr",
     "output_type": "stream",
     "text": [
      "100%|██████████| 100/100 [00:05<00:00, 19.24it/s]\n",
      "  2%|▏         | 2/100 [00:00<00:06, 14.65it/s]"
     ]
    },
    {
     "name": "stdout",
     "output_type": "stream",
     "text": [
      "starting epoch 1\n"
     ]
    },
    {
     "name": "stderr",
     "output_type": "stream",
     "text": [
      "100%|██████████| 100/100 [00:05<00:00, 19.44it/s]\n",
      "  2%|▏         | 2/100 [00:00<00:04, 19.73it/s]"
     ]
    },
    {
     "name": "stdout",
     "output_type": "stream",
     "text": [
      "starting epoch 2\n"
     ]
    },
    {
     "name": "stderr",
     "output_type": "stream",
     "text": [
      "100%|██████████| 100/100 [00:05<00:00, 19.82it/s]\n",
      "  2%|▏         | 2/100 [00:00<00:06, 14.09it/s]"
     ]
    },
    {
     "name": "stdout",
     "output_type": "stream",
     "text": [
      "starting epoch 3\n"
     ]
    },
    {
     "name": "stderr",
     "output_type": "stream",
     "text": [
      "100%|██████████| 100/100 [00:05<00:00, 19.22it/s]\n",
      "100%|██████████| 50/50.0 [00:01<00:00, 47.52it/s]\n",
      "100%|██████████| 50/50.0 [00:00<00:00, 54.15it/s]\n",
      "  5%|▌         | 5/100 [00:00<00:02, 40.06it/s]"
     ]
    },
    {
     "name": "stdout",
     "output_type": "stream",
     "text": [
      "starting epoch 0\n"
     ]
    },
    {
     "name": "stderr",
     "output_type": "stream",
     "text": [
      "100%|██████████| 100/100 [00:02<00:00, 38.40it/s]\n",
      "  4%|▍         | 4/100 [00:00<00:02, 39.98it/s]"
     ]
    },
    {
     "name": "stdout",
     "output_type": "stream",
     "text": [
      "starting epoch 1\n"
     ]
    },
    {
     "name": "stderr",
     "output_type": "stream",
     "text": [
      "100%|██████████| 100/100 [00:02<00:00, 37.47it/s]\n",
      "  4%|▍         | 4/100 [00:00<00:02, 39.70it/s]"
     ]
    },
    {
     "name": "stdout",
     "output_type": "stream",
     "text": [
      "starting epoch 2\n"
     ]
    },
    {
     "name": "stderr",
     "output_type": "stream",
     "text": [
      "100%|██████████| 100/100 [00:02<00:00, 39.49it/s]\n",
      "  3%|▎         | 3/100 [00:00<00:03, 26.09it/s]"
     ]
    },
    {
     "name": "stdout",
     "output_type": "stream",
     "text": [
      "starting epoch 3\n"
     ]
    },
    {
     "name": "stderr",
     "output_type": "stream",
     "text": [
      "100%|██████████| 100/100 [00:02<00:00, 38.29it/s]\n",
      "100%|██████████| 50/50.0 [00:01<00:00, 48.16it/s]\n",
      "100%|██████████| 50/50.0 [00:00<00:00, 60.50it/s]\n",
      "Some weights of the model checkpoint at bert-large-uncased-whole-word-masking were not used when initializing bertMCMLM: ['cls.seq_relationship.weight', 'cls.seq_relationship.bias']\n",
      "- This IS expected if you are initializing bertMCMLM from the checkpoint of a model trained on another task or with another architecture (e.g. initializing a BertForSequenceClassification model from a BertForPreTraining model).\n",
      "- This IS NOT expected if you are initializing bertMCMLM from the checkpoint of a model that you expect to be exactly identical (initializing a BertForSequenceClassification model from a BertForSequenceClassification model).\n",
      "  1%|          | 2/200 [00:00<00:10, 19.29it/s]"
     ]
    },
    {
     "name": "stdout",
     "output_type": "stream",
     "text": [
      "starting epoch 0\n"
     ]
    },
    {
     "name": "stderr",
     "output_type": "stream",
     "text": [
      "100%|██████████| 200/200 [00:09<00:00, 20.16it/s]\n",
      "  2%|▏         | 3/200 [00:00<00:09, 21.21it/s]"
     ]
    },
    {
     "name": "stdout",
     "output_type": "stream",
     "text": [
      "starting epoch 1\n"
     ]
    },
    {
     "name": "stderr",
     "output_type": "stream",
     "text": [
      "100%|██████████| 200/200 [00:10<00:00, 19.84it/s]\n",
      "  1%|          | 2/200 [00:00<00:10, 19.27it/s]"
     ]
    },
    {
     "name": "stdout",
     "output_type": "stream",
     "text": [
      "starting epoch 2\n"
     ]
    },
    {
     "name": "stderr",
     "output_type": "stream",
     "text": [
      "100%|██████████| 200/200 [00:10<00:00, 19.12it/s]\n",
      "  2%|▏         | 3/200 [00:00<00:09, 20.44it/s]"
     ]
    },
    {
     "name": "stdout",
     "output_type": "stream",
     "text": [
      "starting epoch 3\n"
     ]
    },
    {
     "name": "stderr",
     "output_type": "stream",
     "text": [
      "100%|██████████| 200/200 [00:10<00:00, 19.01it/s]\n",
      "100%|██████████| 50/50.0 [00:01<00:00, 46.45it/s]\n",
      "100%|██████████| 50/50.0 [00:00<00:00, 54.35it/s]\n",
      "  2%|▏         | 4/200 [00:00<00:04, 39.97it/s]"
     ]
    },
    {
     "name": "stdout",
     "output_type": "stream",
     "text": [
      "starting epoch 0\n"
     ]
    },
    {
     "name": "stderr",
     "output_type": "stream",
     "text": [
      "100%|██████████| 200/200 [00:05<00:00, 38.15it/s]\n",
      "  2%|▎         | 5/200 [00:00<00:04, 39.90it/s]"
     ]
    },
    {
     "name": "stdout",
     "output_type": "stream",
     "text": [
      "starting epoch 1\n"
     ]
    },
    {
     "name": "stderr",
     "output_type": "stream",
     "text": [
      "100%|██████████| 200/200 [00:05<00:00, 33.60it/s]\n",
      "  2%|▏         | 4/200 [00:00<00:04, 39.50it/s]"
     ]
    },
    {
     "name": "stdout",
     "output_type": "stream",
     "text": [
      "starting epoch 2\n"
     ]
    },
    {
     "name": "stderr",
     "output_type": "stream",
     "text": [
      "100%|██████████| 200/200 [00:05<00:00, 37.13it/s]\n",
      "  2%|▎         | 5/200 [00:00<00:04, 40.20it/s]"
     ]
    },
    {
     "name": "stdout",
     "output_type": "stream",
     "text": [
      "starting epoch 3\n"
     ]
    },
    {
     "name": "stderr",
     "output_type": "stream",
     "text": [
      "100%|██████████| 200/200 [00:05<00:00, 37.90it/s]\n",
      "100%|██████████| 50/50.0 [00:01<00:00, 49.94it/s]\n",
      "100%|██████████| 50/50.0 [00:00<00:00, 65.61it/s]\n",
      "Some weights of the model checkpoint at bert-large-uncased-whole-word-masking were not used when initializing bertMCMLM: ['cls.seq_relationship.weight', 'cls.seq_relationship.bias']\n",
      "- This IS expected if you are initializing bertMCMLM from the checkpoint of a model trained on another task or with another architecture (e.g. initializing a BertForSequenceClassification model from a BertForPreTraining model).\n",
      "- This IS NOT expected if you are initializing bertMCMLM from the checkpoint of a model that you expect to be exactly identical (initializing a BertForSequenceClassification model from a BertForSequenceClassification model).\n",
      "  1%|          | 3/400 [00:00<00:19, 19.93it/s]"
     ]
    },
    {
     "name": "stdout",
     "output_type": "stream",
     "text": [
      "starting epoch 0\n"
     ]
    },
    {
     "name": "stderr",
     "output_type": "stream",
     "text": [
      "100%|██████████| 400/400 [00:20<00:00, 19.75it/s]\n",
      "  0%|          | 2/400 [00:00<00:20, 19.43it/s]"
     ]
    },
    {
     "name": "stdout",
     "output_type": "stream",
     "text": [
      "starting epoch 1\n"
     ]
    },
    {
     "name": "stderr",
     "output_type": "stream",
     "text": [
      "100%|██████████| 400/400 [00:20<00:00, 19.78it/s]\n",
      "  0%|          | 2/400 [00:00<00:20, 19.64it/s]"
     ]
    },
    {
     "name": "stdout",
     "output_type": "stream",
     "text": [
      "starting epoch 2\n"
     ]
    },
    {
     "name": "stderr",
     "output_type": "stream",
     "text": [
      "100%|██████████| 400/400 [00:20<00:00, 19.50it/s]\n",
      "  1%|          | 3/400 [00:00<00:17, 22.62it/s]"
     ]
    },
    {
     "name": "stdout",
     "output_type": "stream",
     "text": [
      "starting epoch 3\n"
     ]
    },
    {
     "name": "stderr",
     "output_type": "stream",
     "text": [
      "100%|██████████| 400/400 [00:20<00:00, 19.82it/s]\n",
      "100%|██████████| 50/50.0 [00:01<00:00, 48.01it/s]\n",
      "100%|██████████| 50/50.0 [00:00<00:00, 57.38it/s]\n",
      "  1%|          | 4/400 [00:00<00:11, 35.24it/s]"
     ]
    },
    {
     "name": "stdout",
     "output_type": "stream",
     "text": [
      "starting epoch 0\n"
     ]
    },
    {
     "name": "stderr",
     "output_type": "stream",
     "text": [
      "100%|██████████| 400/400 [00:10<00:00, 39.39it/s]\n",
      "  1%|          | 4/400 [00:00<00:10, 39.52it/s]"
     ]
    },
    {
     "name": "stdout",
     "output_type": "stream",
     "text": [
      "starting epoch 1\n"
     ]
    },
    {
     "name": "stderr",
     "output_type": "stream",
     "text": [
      "100%|██████████| 400/400 [00:10<00:00, 39.21it/s]\n",
      "  1%|          | 4/400 [00:00<00:10, 39.32it/s]"
     ]
    },
    {
     "name": "stdout",
     "output_type": "stream",
     "text": [
      "starting epoch 2\n"
     ]
    },
    {
     "name": "stderr",
     "output_type": "stream",
     "text": [
      "100%|██████████| 400/400 [00:10<00:00, 37.42it/s]\n",
      "  1%|          | 4/400 [00:00<00:10, 39.32it/s]"
     ]
    },
    {
     "name": "stdout",
     "output_type": "stream",
     "text": [
      "starting epoch 3\n"
     ]
    },
    {
     "name": "stderr",
     "output_type": "stream",
     "text": [
      "100%|██████████| 400/400 [00:10<00:00, 36.48it/s]\n",
      "100%|██████████| 50/50.0 [00:01<00:00, 49.67it/s]\n",
      "100%|██████████| 50/50.0 [00:00<00:00, 64.27it/s]\n"
     ]
    }
   ],
   "source": [
    "N= [0, 60, 120, 250, 500, 1000, 2000, 4000]\n",
    "\n",
    "# models = ['bert-large-uncased-whole-word-masking', 'roberta-large']\n",
    "cols =['bert-large-WWM', 'bert-large-WWM No-Lang', 'roberta-large', 'roberta-large No-Lang']\n",
    "results = pd.DataFrame([])\n",
    "for i, n in enumerate(N):\n",
    "    for modeltype in models:\n",
    "        if 'roberta' in modeltype:\n",
    "            tokenizer = RobertaTokenizer.from_pretrained(modeltype, do_lower_case=True)\n",
    "            model = robertaMCMLM.from_pretrained(modeltype)\n",
    "        else:\n",
    "            tokenizer = BertTokenizer.from_pretrained(modeltype, do_lower_case=True)\n",
    "            model = bertMCMLM.from_pretrained(modeltype)\n",
    "        model.train()\n",
    "        model = fine_tuneMLM(model, tokenizer, n)\n",
    "        model.eval()\n",
    "        accuracy = evaluateMLM(model, tokenizer, dataset['dev'])\n",
    "        results.loc[n, modeltype]= accuracy\n",
    "        accuracy = evaluateMLM(model, tokenizer, dataset['no_lang'])\n",
    "        results.loc[n, modeltype+' no-lang']= accuracy"
   ]
  },
  {
   "cell_type": "code",
   "execution_count": 134,
   "id": "equal-mongolia",
   "metadata": {},
   "outputs": [
    {
     "data": {
      "text/plain": [
       "<AxesSubplot:>"
      ]
     },
     "execution_count": 134,
     "metadata": {},
     "output_type": "execute_result"
    },
    {
     "data": {
      "image/png": "[encoded data removed]",
      "text/plain": [
       "<Figure size 720x504 with 1 Axes>"
      ]
     },
     "metadata": {
      "needs_background": "light"
     },
     "output_type": "display_data"
    }
   ],
   "source": [
    "results.plot(figsize=(10,7))"
   ]
  },
  {
   "cell_type": "markdown",
   "id": "laden-hands",
   "metadata": {},
   "source": [
    "## MC-QA"
   ]
  },
  {
   "cell_type": "code",
   "execution_count": null,
   "id": "laden-afghanistan",
   "metadata": {},
   "outputs": [],
   "source": [
    "def load_qa(dataset, num_choices, tokenizer):\n",
    "    batch_size=len(dataset)\n",
    "    sequence_length= tokenizer([[dataset[0]['question']['stem']]*num_choices, [choice['text']for choice in dataset[0]['question']['choices']]], padding=True, return_tensors='pt').input_ids.size(1)\n",
    "    input_ids = torch.zeros(batch_size, num_choices, sequence_length, dtype=torch.long)\n",
    "    attention_mask = torch.zeros(batch_size, num_choices, sequence_length, dtype=torch.long)\n",
    "    token_type_ids = torch.zeros(batch_size, num_choices, sequence_length, dtype=torch.long)\n",
    "    labels = torch.zeros(batch_size, dtype=torch.long)\n",
    "    for i, sentence in enumerate(dataset):\n",
    "        tokens = tokenizer([[sentence['question']['stem']]*num_choices, [choice['text']for choice in sentence['question']['choices']]], padding=True, return_tensors='pt')\n",
    "        input_ids[i] = tokens.input_ids\n",
    "        attention_mask[i]= tokens.attention_mask\n",
    "        token_type_ids[i] = tokens.token_type_ids\n",
    "        labels[i] = [choice['label'] for choice in sentence['question']['choices']].index(sentence['answerKey'])\n",
    "\n",
    "    return input_ids, attention_mask, token_type_ids, labels"
   ]
  },
  {
   "cell_type": "code",
   "execution_count": null,
   "id": "graphic-enlargement",
   "metadata": {},
   "outputs": [],
   "source": [
    "# optim = AdamW(model.parameters(), lr=5e-5)\n",
    "no_examples=10\n",
    "batch_size=10\n",
    "examples = random.sample(list(dataset['train']), no_examples)\n",
    "gen = (examples[i:i + batch_size] for i in range(0, len(examples), batch_size))\n",
    "input_ids, attention_mask, token_type_ids, labels = load_qa(next(gen),2,tokenizer)\n",
    "input_ids = input_ids.to('cuda:1')\n",
    "attention_mask = attention_mask.to('cuda:1')\n",
    "token_type_ids =token_type_ids.to('cuda:1')\n",
    "labels = labels.to('cuda:1')"
   ]
  },
  {
   "cell_type": "code",
   "execution_count": null,
   "id": "sound-slope",
   "metadata": {},
   "outputs": [],
   "source": [
    "tokenizer = BertTokenizer.from_pretrained('bert-large-uncased-whole-word-masking')\n",
    "model = BertForMultipleChoice.from_pretrained('bert-large-uncased-whole-word-masking')\n",
    "\n",
    "# tokenizer = BertTokenizer.from_pretrained('bert-base-uncased')\n",
    "# model = BertForMultipleChoice.from_pretrained('bert-base-uncased')\n",
    "\n",
    "for name, param in model.named_parameters():\n",
    "    if 'bert.pooler' in name or 'classifier' in name:\n",
    "        param.requires_grad = True\n",
    "    else:\n",
    "        param.requires_grad = False\n",
    "model.classifier.weight.data.normal_(mean=0.0, std=0.02)\n",
    "model.classifier.bias.data.zero_()\n",
    "# model.train()\n",
    "# for param in model.bert.parameters():\n",
    "#     param.requires_grad = False"
   ]
  },
  {
   "cell_type": "code",
   "execution_count": null,
   "id": "responsible-omega",
   "metadata": {},
   "outputs": [],
   "source": [
    "def fine_tune_qa(model, tokenizer, no_examples):\n",
    "    batch_size = 10\n",
    "    epochs = 4\n",
    "    model = model.to('cuda:1')\n",
    "    model.train()\n",
    "    optim = AdamW(model.parameters(), lr=1e-5, weight_decay = 0.1)\n",
    "    examples = random.sample(list(dataset['train']), no_examples)\n",
    "    for epoch in range(epochs):\n",
    "        print(f\"starting epoch {epoch}\")\n",
    "        random.shuffle(examples)\n",
    "        gen = (examples[i:i + batch_size] for i in range(0, len(examples), batch_size))\n",
    "        for batch in gen: #tqdm(gen, total=int(no_examples/batch_size)):\n",
    "            optim.zero_grad()\n",
    "            input_ids, attention_mask, token_type_ids, labels = load_qa(batch,2,tokenizer)\n",
    "            input_ids = input_ids.to('cuda:1')\n",
    "            attention_mask = attention_mask.to('cuda:1')\n",
    "            token_type_ids =token_type_ids.to('cuda:1')\n",
    "            labels = labels.to('cuda:1')\n",
    "            output = model(input_ids=input_ids, attention_mask=attention_mask, token_type_ids=token_type_ids, labels=labels)\n",
    "            loss = output.loss\n",
    "            loss.backward()\n",
    "            optim.step() \n",
    "            print(loss)\n",
    "    return model"
   ]
  },
  {
   "cell_type": "code",
   "execution_count": null,
   "id": "current-pollution",
   "metadata": {},
   "outputs": [],
   "source": [
    "model.train()\n",
    "model.to('cuda:1')\n",
    "optim = AdamW(model.parameters(), lr=1e-5, weight_decay = 0.1)\n",
    "for i in range(75):\n",
    "    optim.zero_grad()\n",
    "    output = model(input_ids=input_ids, attention_mask=attention_mask, token_type_ids=token_type_ids, labels=labels)\n",
    "    loss = output.loss\n",
    "    loss.backward()\n",
    "    optim.step()\n",
    "    print(loss)"
   ]
  },
  {
   "cell_type": "code",
   "execution_count": null,
   "id": "technological-meeting",
   "metadata": {},
   "outputs": [],
   "source": [
    "model = fine_tune_qa(model, tokenizer, 1000)"
   ]
  },
  {
   "cell_type": "code",
   "execution_count": null,
   "id": "knowing-baghdad",
   "metadata": {},
   "outputs": [],
   "source": [
    "def evaluate_qa(model, tokenizer):\n",
    "    model.eval()\n",
    "    examples = list(dataset['dev'])#random.sample(list(dataset['dev']), 500)\n",
    "    random.shuffle(examples)\n",
    "    batch_size = 10\n",
    "    gen = (examples[i:i + batch_size] for i in range(0, len(examples), batch_size))\n",
    "    correct = 0\n",
    "    for batch in gen:#tqdm(gen, total=500/batch_size):\n",
    "        input_ids, attention_mask, token_type_ids, labels = load_qa(batch,2,tokenizer)\n",
    "        input_ids = input_ids.to('cuda:1')\n",
    "        attention_mask = attention_mask.to('cuda:1')\n",
    "        token_type_ids =token_type_ids.to('cuda:1')\n",
    "        labels = labels.to('cuda:1')\n",
    "        output = model(input_ids=input_ids, attention_mask=attention_mask, token_type_ids=token_type_ids, labels=labels)\n",
    "        print('guess',torch.argmax(torch.softmax(output.logits, dim=1), dim=1))\n",
    "        print('label', labels)\n",
    "        print((torch.argmax(torch.softmax(output.logits, dim=1), dim=1) == labels).sum().item())\n",
    "    #     print(torch.argmax(torch.softmax(output.logits, dim=1), dim=1)== labels).sum().item()\n",
    "        correct += (torch.argmax(torch.softmax(output.logits, dim=1), dim=1)== labels).sum().item()\n",
    "\n",
    "    accuracy = correct/500 *100\n",
    "    accuracy\n",
    "    return accuracy  "
   ]
  }
 ],
 "metadata": {
  "kernelspec": {
   "display_name": "Python 3",
   "language": "python",
   "name": "python3"
  },
  "language_info": {
   "codemirror_mode": {
    "name": "ipython",
    "version": 3
   },
   "file_extension": ".py",
   "mimetype": "text/x-python",
   "name": "python",
   "nbconvert_exporter": "python",
   "pygments_lexer": "ipython3",
   "version": "3.8.8"
  }
 },
 "nbformat": 4,
 "nbformat_minor": 5
}
